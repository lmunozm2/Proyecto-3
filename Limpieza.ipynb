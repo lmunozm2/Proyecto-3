{
 "cells": [
  {
   "cell_type": "code",
   "execution_count": 1,
   "metadata": {},
   "outputs": [
    {
     "name": "stderr",
     "output_type": "stream",
     "text": [
      "C:\\Users\\angie\\AppData\\Local\\Temp\\ipykernel_4016\\4182162299.py:2: DtypeWarning: Columns (7,8) have mixed types. Specify dtype option on import or set low_memory=False.\n",
      "  datos = pd.read_csv(\"C:/Users/angie/OneDrive/Desktop/Octavo semestre/Analitica computacional/Proyecto3/datosp3.csv\")\n"
     ]
    },
    {
     "name": "stdout",
     "output_type": "stream",
     "text": [
      "<bound method NDFrame.head of         periodo estu_tipodocumento  estu_consecutivo cole_area_ubicacion  \\\n",
      "0       20194.0                 TI  SB11201940089717              URBANO   \n",
      "1       20194.0                 TI  SB11201940089717              URBANO   \n",
      "2       20194.0                 TI  SB11201940323382              URBANO   \n",
      "3       20194.0                 TI  SB11201940323382              URBANO   \n",
      "4       20194.0                 CC  SB11201940559593              URBANO   \n",
      "...         ...                ...               ...                 ...   \n",
      "186030  20224.0                 TI  SB11202240438206              URBANO   \n",
      "186031  20224.0                 TI  SB11202240367925              URBANO   \n",
      "186032  20224.0                 TI  SB11202240138542              URBANO   \n",
      "186033  20224.0                 TI  SB11202240112265              URBANO   \n",
      "186034  20224.0                 TI  SB11202240097384              URBANO   \n",
      "\n",
      "       cole_bilingue cole_calendario      cole_caracter  \\\n",
      "0                NaN               A          ACADÉMICO   \n",
      "1                NaN               A          ACADÉMICO   \n",
      "2                  N               A  TÉCNICO/ACADÉMICO   \n",
      "3                  N               A  TÉCNICO/ACADÉMICO   \n",
      "4                  N               A  TÉCNICO/ACADÉMICO   \n",
      "...              ...             ...                ...   \n",
      "186030             N               A  TÉCNICO/ACADÉMICO   \n",
      "186031             N               A  TÉCNICO/ACADÉMICO   \n",
      "186032             N               A          ACADÉMICO   \n",
      "186033             N               A  TÉCNICO/ACADÉMICO   \n",
      "186034             N               A  TÉCNICO/ACADÉMICO   \n",
      "\n",
      "       cole_cod_dane_establecimiento cole_cod_dane_sede  \\\n",
      "0                     376000000000.0     376000000000.0   \n",
      "1                     376000000000.0     376000000000.0   \n",
      "2                     376000000000.0     376000000000.0   \n",
      "3                     376000000000.0     376000000000.0   \n",
      "4                     176000000000.0     176000000000.0   \n",
      "...                              ...                ...   \n",
      "186030                176000000000.0     176000000000.0   \n",
      "186031                376000000000.0     376000000000.0   \n",
      "186032                177000000000.0     177000000000.0   \n",
      "186033                376000000000.0     376000000000.0   \n",
      "186034                176000000000.0     176000000000.0   \n",
      "\n",
      "        cole_cod_depto_ubicacion  ...  fami_tienecomputador  \\\n",
      "0                           76.0  ...                    Si   \n",
      "1                           76.0  ...                    Si   \n",
      "2                           76.0  ...                    No   \n",
      "3                           76.0  ...                    No   \n",
      "4                           76.0  ...                    Si   \n",
      "...                          ...  ...                   ...   \n",
      "186030                      76.0  ...                    No   \n",
      "186031                      76.0  ...                    Si   \n",
      "186032                      76.0  ...                    No   \n",
      "186033                      76.0  ...                    Si   \n",
      "186034                      76.0  ...                    No   \n",
      "\n",
      "        fami_tieneinternet fami_tienelavadora desemp_ingles punt_ingles  \\\n",
      "0                       Si                 Si            A-        31.0   \n",
      "1                       Si                 Si            A-        31.0   \n",
      "2                       No                 Si            A-        36.0   \n",
      "3                       No                 Si            A-        36.0   \n",
      "4                       Si                 Si            A-        42.0   \n",
      "...                    ...                ...           ...         ...   \n",
      "186030                  Si                 Si            A1        52.0   \n",
      "186031                  Si                 Si            A2        61.0   \n",
      "186032                  Si                 Si            A2        67.0   \n",
      "186033                  Si                 Si            A-        32.0   \n",
      "186034                  Si                 Si            A1        50.0   \n",
      "\n",
      "       punt_matematicas punt_sociales_ciudadanas punt_c_naturales  \\\n",
      "0                  49.0                     31.0             32.0   \n",
      "1                  49.0                     31.0             32.0   \n",
      "2                  42.0                     27.0             38.0   \n",
      "3                  42.0                     27.0             38.0   \n",
      "4                  56.0                     60.0             49.0   \n",
      "...                 ...                      ...              ...   \n",
      "186030             52.0                     44.0             43.0   \n",
      "186031             70.0                     60.0             63.0   \n",
      "186032             50.0                     57.0             60.0   \n",
      "186033             44.0                     46.0             44.0   \n",
      "186034             49.0                     46.0             44.0   \n",
      "\n",
      "       punt_lectura_critica punt_global  \n",
      "0                      41.0       188.0  \n",
      "1                      41.0       188.0  \n",
      "2                      41.0       185.0  \n",
      "3                      41.0       185.0  \n",
      "4                      65.0       282.0  \n",
      "...                     ...         ...  \n",
      "186030                 52.0       240.0  \n",
      "186031                 60.0       315.0  \n",
      "186032                 59.0       287.0  \n",
      "186033                 34.0       206.0  \n",
      "186034                 56.0       244.0  \n",
      "\n",
      "[186035 rows x 51 columns]>\n"
     ]
    }
   ],
   "source": [
    "import pandas as pd\n",
    "datos = pd.read_csv(\"C:/Users/angie/OneDrive/Desktop/Octavo semestre/Analitica computacional/Proyecto3/datosp3.csv\")\n",
    "print(datos.head)"
   ]
  },
  {
   "cell_type": "code",
   "execution_count": 2,
   "metadata": {},
   "outputs": [
    {
     "name": "stdout",
     "output_type": "stream",
     "text": [
      "<class 'pandas.core.frame.DataFrame'>\n",
      "RangeIndex: 186035 entries, 0 to 186034\n",
      "Data columns (total 51 columns):\n",
      " #   Column                         Non-Null Count   Dtype  \n",
      "---  ------                         --------------   -----  \n",
      " 0   periodo                        186034 non-null  float64\n",
      " 1   estu_tipodocumento             186035 non-null  object \n",
      " 2   estu_consecutivo               186035 non-null  object \n",
      " 3   cole_area_ubicacion            186035 non-null  object \n",
      " 4   cole_bilingue                  162489 non-null  object \n",
      " 5   cole_calendario                186035 non-null  object \n",
      " 6   cole_caracter                  179934 non-null  object \n",
      " 7   cole_cod_dane_establecimiento  186035 non-null  object \n",
      " 8   cole_cod_dane_sede             186035 non-null  object \n",
      " 9   cole_cod_depto_ubicacion       186034 non-null  float64\n",
      " 10  cole_cod_mcpio_ubicacion       186034 non-null  float64\n",
      " 11  cole_codigo_icfes              186034 non-null  float64\n",
      " 12  cole_depto_ubicacion           186035 non-null  object \n",
      " 13  cole_genero                    186035 non-null  object \n",
      " 14  cole_jornada                   186035 non-null  object \n",
      " 15  cole_mcpio_ubicacion           186035 non-null  object \n",
      " 16  cole_naturaleza                186035 non-null  object \n",
      " 17  cole_nombre_establecimiento    186035 non-null  object \n",
      " 18  cole_nombre_sede               186035 non-null  object \n",
      " 19  cole_sede_principal            186035 non-null  object \n",
      " 20  estu_cod_depto_presentacion    186034 non-null  float64\n",
      " 21  estu_cod_mcpio_presentacion    186034 non-null  float64\n",
      " 22  estu_cod_reside_depto          185784 non-null  float64\n",
      " 23  estu_cod_reside_mcpio          185784 non-null  float64\n",
      " 24  estu_depto_presentacion        186035 non-null  object \n",
      " 25  estu_depto_reside              185785 non-null  object \n",
      " 26  estu_estadoinvestigacion       186035 non-null  object \n",
      " 27  estu_estudiante                186035 non-null  object \n",
      " 28  estu_fechanacimiento           186035 non-null  object \n",
      " 29  estu_genero                    186001 non-null  object \n",
      " 30  estu_mcpio_presentacion        186035 non-null  object \n",
      " 31  estu_mcpio_reside              185785 non-null  object \n",
      " 32  estu_nacionalidad              186035 non-null  object \n",
      " 33  estu_pais_reside               186035 non-null  object \n",
      " 34  estu_privado_libertad          186035 non-null  object \n",
      " 35  fami_cuartoshogar              176500 non-null  object \n",
      " 36  fami_educacionmadre            172671 non-null  object \n",
      " 37  fami_educacionpadre            172617 non-null  object \n",
      " 38  fami_estratovivienda           171280 non-null  object \n",
      " 39  fami_personashogar             176842 non-null  object \n",
      " 40  fami_tieneautomovil            176077 non-null  object \n",
      " 41  fami_tienecomputador           176503 non-null  object \n",
      " 42  fami_tieneinternet             172431 non-null  object \n",
      " 43  fami_tienelavadora             176531 non-null  object \n",
      " 44  desemp_ingles                  185943 non-null  object \n",
      " 45  punt_ingles                    185920 non-null  float64\n",
      " 46  punt_matematicas               186034 non-null  float64\n",
      " 47  punt_sociales_ciudadanas       186034 non-null  float64\n",
      " 48  punt_c_naturales               186034 non-null  float64\n",
      " 49  punt_lectura_critica           186034 non-null  float64\n",
      " 50  punt_global                    186034 non-null  float64\n",
      "dtypes: float64(14), object(37)\n",
      "memory usage: 72.4+ MB\n",
      "None\n"
     ]
    }
   ],
   "source": [
    "#Información general \n",
    "print(datos.info())"
   ]
  },
  {
   "cell_type": "code",
   "execution_count": 3,
   "metadata": {},
   "outputs": [
    {
     "name": "stdout",
     "output_type": "stream",
     "text": [
      "             periodo  cole_cod_depto_ubicacion  cole_cod_mcpio_ubicacion  \\\n",
      "count  186034.000000                  186034.0             186034.000000   \n",
      "mean    20208.522679                      76.0              76209.037783   \n",
      "std        14.527507                       0.0                288.994831   \n",
      "min     20191.000000                      76.0              76001.000000   \n",
      "25%     20194.000000                      76.0              76001.000000   \n",
      "50%     20201.000000                      76.0              76054.000000   \n",
      "75%     20224.000000                      76.0              76364.000000   \n",
      "max     20224.000000                      76.0              76895.000000   \n",
      "\n",
      "       cole_codigo_icfes  estu_cod_depto_presentacion  \\\n",
      "count      186034.000000                186034.000000   \n",
      "mean       230222.873410                    75.764753   \n",
      "std        259125.927458                     3.749049   \n",
      "min         16659.000000                     5.000000   \n",
      "25%         43323.000000                    76.000000   \n",
      "50%        111922.000000                    76.000000   \n",
      "75%        270165.000000                    76.000000   \n",
      "max        806752.000000                    95.000000   \n",
      "\n",
      "       estu_cod_mcpio_presentacion  estu_cod_reside_depto  \\\n",
      "count                186034.000000          185784.000000   \n",
      "mean                  75966.564778              75.783307   \n",
      "std                    3761.054760               3.577576   \n",
      "min                    5001.000000               5.000000   \n",
      "25%                   76001.000000              76.000000   \n",
      "50%                   76001.000000              76.000000   \n",
      "75%                   76364.000000              76.000000   \n",
      "max                   95001.000000              95.000000   \n",
      "\n",
      "       estu_cod_reside_mcpio    punt_ingles  punt_matematicas  \\\n",
      "count          185784.000000  185920.000000     186034.000000   \n",
      "mean            75990.879274      50.854760         50.876383   \n",
      "std              3590.732465      13.444027         12.069766   \n",
      "min              5001.000000       0.000000          0.000000   \n",
      "25%             76001.000000      40.000000         42.000000   \n",
      "50%             76041.000000      50.000000         51.000000   \n",
      "75%             76364.000000      59.000000         59.000000   \n",
      "max             95001.000000     100.000000        100.000000   \n",
      "\n",
      "       punt_sociales_ciudadanas  punt_c_naturales  punt_lectura_critica  \\\n",
      "count             186034.000000     186034.000000         186034.000000   \n",
      "mean                  47.988034         49.371104             53.539826   \n",
      "std                   12.266878         10.828481             10.643010   \n",
      "min                    0.000000          0.000000              0.000000   \n",
      "25%                   38.000000         41.000000             46.000000   \n",
      "50%                   47.000000         49.000000             54.000000   \n",
      "75%                   57.000000         57.000000             61.000000   \n",
      "max                  100.000000        100.000000            100.000000   \n",
      "\n",
      "         punt_global  \n",
      "count  186034.000000  \n",
      "mean      252.374098  \n",
      "std        52.333977  \n",
      "min         0.000000  \n",
      "25%       212.000000  \n",
      "50%       250.000000  \n",
      "75%       290.000000  \n",
      "max       495.000000  \n"
     ]
    }
   ],
   "source": [
    "#Estadisticas\n",
    "print(datos.describe())"
   ]
  },
  {
   "cell_type": "markdown",
   "metadata": {},
   "source": [
    "Primero se analizan los valores faltantes"
   ]
  },
  {
   "cell_type": "code",
   "execution_count": 4,
   "metadata": {},
   "outputs": [
    {
     "name": "stdout",
     "output_type": "stream",
     "text": [
      "Valores falntes NaN\n",
      "periodo                              1\n",
      "estu_tipodocumento                   0\n",
      "estu_consecutivo                     0\n",
      "cole_area_ubicacion                  0\n",
      "cole_bilingue                    23546\n",
      "cole_calendario                      0\n",
      "cole_caracter                     6101\n",
      "cole_cod_dane_establecimiento        0\n",
      "cole_cod_dane_sede                   0\n",
      "cole_cod_depto_ubicacion             1\n",
      "cole_cod_mcpio_ubicacion             1\n",
      "cole_codigo_icfes                    1\n",
      "cole_depto_ubicacion                 0\n",
      "cole_genero                          0\n",
      "cole_jornada                         0\n",
      "cole_mcpio_ubicacion                 0\n",
      "cole_naturaleza                      0\n",
      "cole_nombre_establecimiento          0\n",
      "cole_nombre_sede                     0\n",
      "cole_sede_principal                  0\n",
      "estu_cod_depto_presentacion          1\n",
      "estu_cod_mcpio_presentacion          1\n",
      "estu_cod_reside_depto              251\n",
      "estu_cod_reside_mcpio              251\n",
      "estu_depto_presentacion              0\n",
      "estu_depto_reside                  250\n",
      "estu_estadoinvestigacion             0\n",
      "estu_estudiante                      0\n",
      "estu_fechanacimiento                 0\n",
      "estu_genero                         34\n",
      "estu_mcpio_presentacion              0\n",
      "estu_mcpio_reside                  250\n",
      "estu_nacionalidad                    0\n",
      "estu_pais_reside                     0\n",
      "estu_privado_libertad                0\n",
      "fami_cuartoshogar                 9535\n",
      "fami_educacionmadre              13364\n",
      "fami_educacionpadre              13418\n",
      "fami_estratovivienda             14755\n",
      "fami_personashogar                9193\n",
      "fami_tieneautomovil               9958\n",
      "fami_tienecomputador              9532\n",
      "fami_tieneinternet               13604\n",
      "fami_tienelavadora                9504\n",
      "desemp_ingles                       92\n",
      "punt_ingles                        115\n",
      "punt_matematicas                     1\n",
      "punt_sociales_ciudadanas             1\n",
      "punt_c_naturales                     1\n",
      "punt_lectura_critica                 1\n",
      "punt_global                          1\n",
      "dtype: int64\n"
     ]
    }
   ],
   "source": [
    "#Mirar los valores faltantes que no tienen nada\n",
    "valoresfaltantesN=datos.isnull().sum()\n",
    "print(\"Valores falntes NaN\")\n",
    "print(valoresfaltantesN)"
   ]
  },
  {
   "cell_type": "markdown",
   "metadata": {},
   "source": [
    "Eliminar todos los valores nulos"
   ]
  },
  {
   "cell_type": "code",
   "execution_count": 5,
   "metadata": {},
   "outputs": [
    {
     "name": "stdout",
     "output_type": "stream",
     "text": [
      "Número de filas antes de eliminar nulos: 186035\n",
      "Número de filas después de eliminar nulos: 143141\n"
     ]
    }
   ],
   "source": [
    "import pandas as pd\n",
    "\n",
    "# Eliminar todas las filas que contienen valores nulos\n",
    "datos_sn = datos.dropna().copy()\n",
    "\n",
    "# Verificar el cambio\n",
    "print(\"Número de filas antes de eliminar nulos:\", len(datos))\n",
    "print(\"Número de filas después de eliminar nulos:\", len(datos_sn))"
   ]
  },
  {
   "cell_type": "markdown",
   "metadata": {},
   "source": [
    "## Ahora se hace un analisis de cada columna"
   ]
  },
  {
   "cell_type": "markdown",
   "metadata": {},
   "source": [
    "Periodo"
   ]
  },
  {
   "cell_type": "code",
   "execution_count": 6,
   "metadata": {},
   "outputs": [
    {
     "name": "stdout",
     "output_type": "stream",
     "text": [
      "Valores únicos en 'periodo': [20194. 20224. 20221. 20191. 20211. 20201.]\n"
     ]
    }
   ],
   "source": [
    "val_periodo = datos_sn['periodo'].unique()\n",
    "print(\"Valores únicos en 'periodo':\", val_periodo)"
   ]
  },
  {
   "cell_type": "markdown",
   "metadata": {},
   "source": [
    "Las columnas de estu_tipodocumento, estu_consecutivo se toman como identificadores."
   ]
  },
  {
   "cell_type": "markdown",
   "metadata": {},
   "source": [
    "cole_area_ubicacion"
   ]
  },
  {
   "cell_type": "code",
   "execution_count": 7,
   "metadata": {},
   "outputs": [
    {
     "name": "stdout",
     "output_type": "stream",
     "text": [
      "Valores únicos en 'cole_area_ubicacion': ['URBANO' 'RURAL']\n"
     ]
    }
   ],
   "source": [
    "val_cole_area_ubicacion = datos_sn['cole_area_ubicacion'].unique()\n",
    "print(\"Valores únicos en 'cole_area_ubicacion':\", val_cole_area_ubicacion)"
   ]
  },
  {
   "cell_type": "markdown",
   "metadata": {},
   "source": [
    "cole_bilingue"
   ]
  },
  {
   "cell_type": "code",
   "execution_count": 8,
   "metadata": {},
   "outputs": [
    {
     "name": "stdout",
     "output_type": "stream",
     "text": [
      "Valores únicos en 'cole_bilingue': ['N' 'S']\n"
     ]
    }
   ],
   "source": [
    "val_cole_bilingue = datos_sn['cole_bilingue'].unique()\n",
    "print(\"Valores únicos en 'cole_bilingue':\", val_cole_bilingue)"
   ]
  },
  {
   "cell_type": "markdown",
   "metadata": {},
   "source": [
    "Cole_calendario"
   ]
  },
  {
   "cell_type": "code",
   "execution_count": 9,
   "metadata": {},
   "outputs": [
    {
     "name": "stdout",
     "output_type": "stream",
     "text": [
      "Valores únicos en 'cole_calendario': ['A' 'B' 'OTRO']\n"
     ]
    }
   ],
   "source": [
    "vals_cole_calendario = datos_sn['cole_calendario'].unique()\n",
    "print(\"Valores únicos en 'cole_calendario':\", vals_cole_calendario)"
   ]
  },
  {
   "cell_type": "markdown",
   "metadata": {},
   "source": [
    "Cole caracter"
   ]
  },
  {
   "cell_type": "code",
   "execution_count": 10,
   "metadata": {},
   "outputs": [
    {
     "name": "stdout",
     "output_type": "stream",
     "text": [
      "Valores únicos en 'cole_caracter': ['TÉCNICO/ACADÉMICO' 'TÉCNICO' 'ACADÉMICO' 'NO APLICA']\n"
     ]
    }
   ],
   "source": [
    "val_cole_caracter = datos_sn['cole_caracter'].unique()\n",
    "print(\"Valores únicos en 'cole_caracter':\", val_cole_caracter)"
   ]
  },
  {
   "cell_type": "markdown",
   "metadata": {},
   "source": [
    "cole_cod_dane_establecimiento,cole_cod_depto_ubicacion,cole_cod_mcpio_ubicacion,cole_codigo_icfes son identificadores"
   ]
  },
  {
   "cell_type": "markdown",
   "metadata": {},
   "source": [
    "cole_depto_ubicacion"
   ]
  },
  {
   "cell_type": "code",
   "execution_count": 11,
   "metadata": {},
   "outputs": [
    {
     "name": "stdout",
     "output_type": "stream",
     "text": [
      "Valores únicos en 'cole_depto_ubicacion': ['VALLE']\n"
     ]
    }
   ],
   "source": [
    "val_cole_depto_ubicacion = datos_sn['cole_depto_ubicacion'].unique()\n",
    "print(\"Valores únicos en 'cole_depto_ubicacion':\", val_cole_depto_ubicacion)"
   ]
  },
  {
   "cell_type": "markdown",
   "metadata": {},
   "source": [
    "cole_genero"
   ]
  },
  {
   "cell_type": "code",
   "execution_count": 12,
   "metadata": {},
   "outputs": [
    {
     "name": "stdout",
     "output_type": "stream",
     "text": [
      "Valores únicos en 'cole_genero': ['MIXTO' 'FEMENINO' 'MASCULINO']\n"
     ]
    }
   ],
   "source": [
    "val_cole_genero = datos_sn['cole_genero'].unique()\n",
    "print(\"Valores únicos en 'cole_genero':\", val_cole_genero)"
   ]
  },
  {
   "cell_type": "markdown",
   "metadata": {},
   "source": [
    "cole_jornada"
   ]
  },
  {
   "cell_type": "code",
   "execution_count": 13,
   "metadata": {},
   "outputs": [
    {
     "name": "stdout",
     "output_type": "stream",
     "text": [
      "Valores únicos en 'cole_jornada': ['MAÑANA' 'TARDE' 'NOCHE' 'COMPLETA' 'UNICA' 'SABATINA']\n"
     ]
    }
   ],
   "source": [
    "val_cole_jornada = datos_sn['cole_jornada'].unique()\n",
    "print(\"Valores únicos en 'cole_jornada':\", val_cole_jornada)"
   ]
  },
  {
   "cell_type": "markdown",
   "metadata": {},
   "source": [
    "cole_mcpio_ubicacion"
   ]
  },
  {
   "cell_type": "code",
   "execution_count": 14,
   "metadata": {},
   "outputs": [
    {
     "name": "stdout",
     "output_type": "stream",
     "text": [
      "Valores únicos en 'cole_mcpio_ubicacion': ['CALI' 'CARTAGO' 'PALMIRA' 'CAICEDONIA' 'JAMUNDÍ' 'BUENAVENTURA'\n",
      " 'PRADERA' 'TULUÁ' 'ROLDANILLO' 'CANDELARIA' 'TRUJILLO' 'SEVILLA'\n",
      " 'GUADALAJARA DE BUGA' 'GINEBRA' 'TORO' 'EL CERRITO' 'LA CUMBRE'\n",
      " 'EL CAIRO' 'VERSALLES' 'ANDALUCÍA' 'DAGUA' 'ZARZAL' 'YUMBO' 'LA VICTORIA'\n",
      " 'ULLOA' 'OBANDO' 'CALIMA' 'SAN PEDRO' 'ALCALÁ' 'FLORIDA' 'GUACARÍ'\n",
      " 'BUGALAGRANDE' 'ARGELIA' 'EL ÁGUILA' 'RIOFRÍO' 'LA UNIÓN' 'VIJES'\n",
      " 'YOTOCO' 'BOLÍVAR' 'ANSERMANUEVO' 'RESTREPO' 'EL DOVIO']\n"
     ]
    }
   ],
   "source": [
    "val_cole_mcpio_ubicacion = datos_sn['cole_mcpio_ubicacion'].unique()\n",
    "print(\"Valores únicos en 'cole_mcpio_ubicacion':\", val_cole_mcpio_ubicacion)"
   ]
  },
  {
   "cell_type": "markdown",
   "metadata": {},
   "source": [
    "cole_naturaleza"
   ]
  },
  {
   "cell_type": "code",
   "execution_count": 15,
   "metadata": {},
   "outputs": [
    {
     "name": "stdout",
     "output_type": "stream",
     "text": [
      "Valores únicos en 'cole_naturaleza': ['NO OFICIAL' 'OFICIAL']\n"
     ]
    }
   ],
   "source": [
    "val_cole_naturaleza = datos_sn['cole_naturaleza'].unique()\n",
    "print(\"Valores únicos en 'cole_naturaleza':\", val_cole_naturaleza)"
   ]
  },
  {
   "cell_type": "markdown",
   "metadata": {},
   "source": [
    "Cole_nombre y cole_sede son muy parecidos"
   ]
  },
  {
   "cell_type": "code",
   "execution_count": 16,
   "metadata": {},
   "outputs": [
    {
     "name": "stdout",
     "output_type": "stream",
     "text": [
      "Valores únicos en 'cole_nombre_establecimiento': ['LIC MODERNO CIUDAD DE CALI' 'ACADEMICO'\n",
      " 'INSTITUCION EDUCATIVA SAN VICENTE' 'INSTITUCION EDUCATIVA BOLIVARIANO'\n",
      " 'INSTITUCIÓN EDUCATIVA TÉCNICA COMERCIAL HERNANDO NAVIA VARON'\n",
      " 'INSTITUCION EDUCATIVA LIBARDO MADRID VALDERRAMAMA'\n",
      " 'INSTITUCION EDUCATIVA TECNICA CIUDAD DE CALI'\n",
      " 'INSTITUCION EDUCATIVA TECNICA GABRIEL GARCIA MARQUEZ'\n",
      " 'INSTITUCION EDUCATIVA VICENTE BORRERO COSTA' 'COL TEC JUVENIL DEL VALLE'\n",
      " 'INSTITUCION EDUCATIVA TÉCNICA INDUSTRIAL ESPAÑA' 'COL BAHAI SIMMONS'\n",
      " 'TERRA INSTITUTO' 'TEOFILO ROBERTO POTES'\n",
      " 'COMERCIAL EN SISTEMAS LA MERCED' 'INSTITUCION EDUCATIVA ATENEO'\n",
      " 'INSTITUCION EDUCATIVA TECNICO INDUSTRIAL ANTONIO JOSE CAMACHO'\n",
      " 'INSTITUCION EDUCATIVA TECNICA DE COMERCIO SIMON RODRIGUEZ'\n",
      " 'INSTITUCION EDUCATIVA JULIA RESTREPO' 'INST TEC REAL HOLANDES'\n",
      " 'INSTITUCION EDUCATIVA SANTA ROSALIA DE PALERMO'\n",
      " 'INSTITUCION EDUCATIVA RODRIGO LLOREDA CAICEDO'\n",
      " 'INSTITUCION EDUCATIVA  JULIAN TRUJILLO'\n",
      " 'INSTITUCION EDUCATIVA  GENERAL SANTANDER'\n",
      " 'INSTITUCION EDUCATIVA CIUDAD CORDOBA'\n",
      " 'INSTITUCION EDUCATIVA ISAIAS GAMBOA'\n",
      " 'INSTITUCION EDUCATIVA TECNICO DE COMERCIO SANTA CECILIA'\n",
      " 'IE TULIO ENRIQUE TASCON' 'INSTITUCION EDUCATIVA GINEBRA LA SALLE'\n",
      " 'INSTITUCION EDUCATIVA FRAY JOSE JOAQUIN ESCOBAR'\n",
      " 'COL FUND STA ISABEL DE HUNGRIA - ALFONSO LOPEZ'\n",
      " 'COLEGIO PARROQUIAL DIVINO SALVADOR'\n",
      " 'INSTITUCION EDUCATIVA  LICEO DEPARTAMENTAL'\n",
      " 'INSTITUCION EDUCATIVA JORGE  ISAACS'\n",
      " 'INSTITUCION EDUCATIVA INMACULADA CONCEPCION' 'LAS AMERICAS'\n",
      " 'SIMON BOLIVAR' 'INSTITUCION EDUCATIVA SIMON BOLIVAR'\n",
      " 'INSTITUCION EDUCATIVA REPUBLICA DE ISRAEL' 'COL FRAY LUIS APOSTOL'\n",
      " 'INSTITUCION EDUCATIVA MODERNA DE TULUA'\n",
      " 'INSTITUCION EDUCATIVA SANTO TOMAS'\n",
      " 'INSTITUCION EDUCATIVA LA PRESENTACION'\n",
      " 'INSTITUCION EDUCATIVA JUAN DE AMPUDIA'\n",
      " 'INSTITUCION EDUCATIVA NORMAL SUPERIOR SANTIAGO DE CALI' 'LICEO SAN JOSÉ'\n",
      " 'INSTITUCION EDUCATIVA GENERAL ALFREDO VASQUEZ COBO'\n",
      " 'INSTITUCION EDUCATIVA LA INMACULADA' 'LA ANUNCIACION'\n",
      " 'INST TEC CCIAL DEL NORTE'\n",
      " 'INSTITUCION EDUCATIVA NUESTRA SEÑORA DE CHIQUINQUIRA'\n",
      " 'INSTITUCION EDUCATIVA POLITECNICO MUNICIPAL DE CALI'\n",
      " 'INST. TÉCNICO INDUSTRIAL FRAY LUIS AMIGO'\n",
      " 'INSTITUCION EDUCATIVA ELEAZAR LIBREROS SALAMANCA' 'COL CIAL MIX INCANOF'\n",
      " 'INSTITUCION EDUCATIVA NUESTRA SEÑORA DEL PALMAR'\n",
      " 'INSTITUCION EDUCATIVA CRISTOBAL COLON'\n",
      " 'INSTITUCION EDUCATIVA HUMBERTO JORDAN MAZUERA'\n",
      " 'INSTITUCION EDUCATIVA NORMAL SUPERIOR NUESTRA SEÑORA DE LAS MERCEDES'\n",
      " 'IE POLICARPA SALAVARRIETA' 'COLEGIO TECNICO JUVENIL DEL SUR'\n",
      " 'PABLO EMILIO CARVAJAL' 'INSTITUCION EDUCATIVA MANUEL ANTONIO BONILLA'\n",
      " 'ACADEMIA COLOMBIANA DE ENSEÑANZA'\n",
      " 'INSTITUCION EDUCATIVA TECNICO INDUSTRIAL LUZ HAYDEE GUERRERO MOLINA'\n",
      " 'INSTITUCIÓN EDUCATIVA JUAN  XXIII'\n",
      " 'INSTITUCION EDUCATIVA JUAN MARIA CESPEDES'\n",
      " 'INSTITUCION EDUCATIVA  GIMNASIO DEL PACIFICO'\n",
      " 'INSTITUCION EDUCATIVA LEOCADIO SALAZAR' 'COLEGIO EL HOGAR'\n",
      " 'I.E. SAN VICENTE' 'INSTITUCION EDUCATIVA BENJAMIN HERRERA'\n",
      " 'ANTONIO HOLGUIN GARCES'\n",
      " 'INSTITUCION EDUCATIVA TECNICO COMERCIAL VILLA DEL SUR'\n",
      " 'INSTITUCION EDUCATIVA SAN JOSE'\n",
      " 'INSTITUCION EDUCATIVA BELISARIO PEÑA PIÑEIRO'\n",
      " 'INSTITUCION EDUCATIVA SANTA ROSA' 'COLEGIO EMPRESARIAL MODERNO'\n",
      " 'INSTITUCION EDUCATIVA JORGE ISAACS'\n",
      " 'INSTITUCION EDUCATIVA MIGUEL ANTONIO CARO'\n",
      " 'INSTITUCION EDUCATIVA JUAN PABLO II'\n",
      " 'INSTITUCION EDUCATIVA ARTURO GOMEZ JARAMILLO'\n",
      " 'NORMAL SUPERIOR JUAN LADRILLEROS'\n",
      " 'INSTITUCION EDUCATIVA CELMIRA BUENO DE OREJUELA'\n",
      " 'INSTITUCION EDUCATIVA REGIONAL SIMON BOLIVAR' 'GABO'\n",
      " 'INSTITUCION EDUCATIVA DEL DAGUA' 'INSTITUCION EDUCATIVA ROSA LIA MAFLA'\n",
      " 'INSTITUCION EDUCATIVA TECNICO INDUSTRIAL DONALD RODRIGO TAFUR'\n",
      " 'LICEO PIGMALION' 'INSTITUCION EDUCATIVA EL DIAMANTE' 'IE ACADEMICO'\n",
      " 'LICEO SAN ANTONIO'\n",
      " 'INSTITUCION EDUCATIVA TECNICA DE BALLET CLASICO INCOLBALLET'\n",
      " 'JOSE MARIA  CABAL' 'CENTRO EDUCATIVO LEONARDO DA VINCI'\n",
      " 'INSTITUCION EDUCATIVA JOSE HOLGUIN GARCES'\n",
      " 'INSTITUCION EDUCATIVA  KWE SX NASA KXSA WNXI IDEBIC' 'ATANASIO GIRARDOT'\n",
      " 'INSTITUCION EDUCATIVA CARDENAS MIRRIÑAO'\n",
      " 'INSTITUCION EDUCATIVA TECNICA CIUDADELA DESEPAZ'\n",
      " 'COLEGIO BILINGUE HISPANO AMERICANO'\n",
      " 'INSTITUCION EDUCATIVA MANUEL MARIA MALLARINO'\n",
      " 'COLEGIO PARROQUIAL SAN JOAQUIN' 'TERMARIT'\n",
      " 'COLEGIO FRANCISCO ELADIO RAMIREZ' 'COL BAUTISTA DE YUMBO'\n",
      " 'INSTITUCION EDUCATIVA EVARISTO GARCIA' 'C. E. FORMAL DISCENTER S'\n",
      " 'INSTITUCION EDUCATIVA FRANCISCO JOSE LLOREDA MERA'\n",
      " 'INSTITUCION EDUCATIVA SANTA BARBARA'\n",
      " 'INSTITUCION EDUCATIVA CARDENAS CENTRO'\n",
      " 'INSTITUCION EDUCATIVA AGUSTIN NIETO CABALLERO' 'SAN VICENTE'\n",
      " 'INSTITUCION EDUCATIVA TECNICO INDUSTRIAL DIEZ DE  MAYO'\n",
      " 'INSTITUCION EDUCATIVA TECNICA COMERCIAL DEL VALLE'\n",
      " 'INSTITUCION EDUCATIVA TECNICA OCCIDENTE'\n",
      " 'INSTITUCION EDUCATIVA TEC INDUSTRIAL CARLOS SARMIENTO LORA'\n",
      " 'COL MIX PEDRO MORALES PINO' 'COLEGIO COMUNAL NUEVA GRANADA'\n",
      " 'INSTITUCION EDUCATIVA NORMAL SUPERIOR LOS FARALLONES'\n",
      " 'INSTITUCION EDUCATIVA  NORMAL SUPERIOR MIGUEL DE CERVANTES SAAVEDRA GALINDO'\n",
      " 'JOSE RAMON BEJARANO' 'COL BENJAMIN FRANKLIN'\n",
      " 'INSTITUCION EDUCATIVA LA MILAGROSA'\n",
      " 'CENTRO EDUCATIVO INDUSTRIAL LUIS MADINA'\n",
      " 'INSTITUCION EDUCATIVA JUANA DE CAICEDO Y CUERO'\n",
      " 'INSTITUCION EDUCATIVA NUESTRA SEÑORA DE  LA CANDELARIA'\n",
      " 'INSTITUTO  TECNICO CALIMA'\n",
      " 'CENTRO DE ESTUDIOS PARA LOS SISTEMAS DE INFORMACION CESI'\n",
      " 'INSTITUCION EDUCATIVA DIEGO RENGIFO SALAZAR'\n",
      " 'INSTITUCION EDUCATIVA  MARINO RENGIFO SALCEDO'\n",
      " 'CENTRO EDUCATIVO ALFA Y OMEGA'\n",
      " 'INSTITUCION EDUCATIVA SAGRADA FAMILIA POTRERILLO'\n",
      " 'INSTITUCION EDUCATIVA HERACLIO URIBE URIBE' 'COL VIDA NUEVA'\n",
      " 'MARIA AUXILIADORA' 'INSTITUCION EDUCATIVA  GILBERTO ALZATE AVENDAÑO'\n",
      " 'LICEO DE OCCIDENTE' 'CORPORACIÓN EDUCATIVA POPULAR-LICEO DE LA AMISTAD'\n",
      " 'INSTITUCION EDUCATIVA NARCISO CABAL SALCEDO' 'COLEGIO COMPARTIR'\n",
      " 'INSTITUCIÓN EDUCATIVA MARICE SINISTERRA'\n",
      " 'INSTITUCION EDUCATIVA ANTONIO NARIÑO'\n",
      " 'INSTITUCION EDUCATIVA TERESA CALDERON DE LASSO'\n",
      " 'CENT DOC PARROQ SAN MARCOS' 'INSTITUTO JUAN XXIII'\n",
      " 'INSTITUCION EDUCATIVA SAGRADO CORAZÓN'\n",
      " 'INSTITUCION EDUCATIVA JORGE ELIECER GAITAN' 'COLEGIO SAN PABLO'\n",
      " 'LIC PORVENIR' 'IE ALBERTO MENDOZA MAYOR'\n",
      " 'INSTITUCION EDUCATIVA ALFONSO LOPEZ PUMAREJO'\n",
      " 'INSTITUCION EDUCATIVA SIETE DE AGOSTO'\n",
      " 'INSTITUCION EDUCATIVA TECNICO INDUSTRIAL CARLOS HOLGUIN MALLARINO'\n",
      " 'INSTITUCION EDUCATIVA CAMILO TORRES' 'LICEO MIXTO EMPERADOR II'\n",
      " 'INSTITUTO ANDRES BELLO COLOMBO AMERICANO'\n",
      " 'IE CEAT GENERAL PIERO MARIOTTI' 'COLEGIO NUESTRA SEÑORA DE FATIMA'\n",
      " 'LICEO LOS PINOS' 'COLEGIO SAN FRANCISCO'\n",
      " 'INSTITUCION EDUCATIVA MONTEBELLO' 'SALESIANO JESUS ADOLESCENTE'\n",
      " 'COL SENDEROS DE PAZ'\n",
      " 'INSTITUCION EDUCATIVA TECNICO INDUSTRIAL PEDRO ANTONIO MOLINA'\n",
      " 'INSTITUCION EDUCATIVA JOSE ANTONIO AGUILERA'\n",
      " 'INSTITUCION EDUCATIVA TECNICO INDUSTRIAL JOSE MARIA CARBONELL'\n",
      " 'COL LA PIEDAD' 'INSTITUCIÓN AGROPECUARIA JOSÉ MARÍA CÓRDOBA'\n",
      " 'INSTITUCION EDUCATIVA MERCEDES ABREGO'\n",
      " '\"COLEGIO DE LA CAJA DE COMPENSACION FAMILIAR DEL VALLE DEL CAUCA \"\"COMFANDI\"\"\"'\n",
      " 'COL MIGUEL ANGEL BUONARROTI' 'INSTITUCION EDUCATIVA  MANUELA BELTRAN'\n",
      " 'COLEGIO CESAR CONTO' 'INSTITUCION EDUCATIVA  TECNICA AGROPECUARIA TORO'\n",
      " 'INSTITUCION EDUCATIVA NUEVO LATIR' 'LIC MIX EMPERADOR DE CALI'\n",
      " 'COL SIGMUND FREUD' 'CORP EDUCATIVA ANTONIO MACEO'\n",
      " 'INSTITUCION EDUCATIVA LA MERCED' 'COLEGIO NUEVO HORIZONTE'\n",
      " 'RAMON MARTINEZ BENITEZ'\n",
      " 'INSTITUCION EDUCATIVA JORGE  ISAACS DE EL PLACER'\n",
      " 'COL GIMNASIO MODERNO DEL VALLE' 'LICEO BRILLANTE JUVENTUD'\n",
      " 'INSTITUCION EDUCATIVA TECNICA COMERCIAL LITECOM'\n",
      " 'IE MANUEL ANTONIO SANCLEMENTE' 'INSTITUTO LA RIVERA'\n",
      " 'INSTITUCION EDUCATIVA SANTIAGO GUTIERREZ ANGEL'\n",
      " 'INSTITUCION EDUCATIVA NORMAL SUPERIOR MARIA INMACULADA'\n",
      " 'INSTITUCION EDUCATIVA ALBERTO CARVAJAL BORRERO'\n",
      " 'INSTITUCION EDUCATIVA TECNICO INDUSTRIAL COMUNA 17'\n",
      " 'INSTITUCION EDUCATIVA SANTA FE' 'CENTRO DE CAPACITACION SANTA INES'\n",
      " 'INSTITUCION EDUCATIVA SEVILLA' 'INSTITUCION EDUCATIVA CIUDAD MODELO'\n",
      " 'COLEGIO ARQUIDIOCESANO JUAN PABLO II'\n",
      " 'INSTITUCION EDUCATIVA RAFAEL NAVIA VARON'\n",
      " 'INSTITUCION EDUCACION NORMAL SUPERIOR JORGE ISAACS'\n",
      " 'LICEO PEDAGÓGICO SURORIENTAL' 'INSTITUCION EDUCATIVA BORRERO AYERBE'\n",
      " 'TERRA INSTITUTO VILLA' 'LICEO MIXTO LA MILAGROSA' 'IE MAYOR DE YUMBO'\n",
      " 'INSTITUCION EDUCATIVA  SAN PIO X'\n",
      " 'INSTITUCION EDUCATIVA JUSTINIANO ECHAVARRIA'\n",
      " 'INSTITUCION EDUCATIVA GENERAL FRANCISCO DE PAULA SANTANDER'\n",
      " 'ESCUELA MERCANTIL' 'INSTITUCION EDUCATIVA DE SANTA LIBRADA'\n",
      " 'INSTITUCION EDUCATIVA TECNICA INDUSTRIAL HUMBERTO RAFFO RIVERA'\n",
      " 'INSTITUCION EDUCATIVA CORAZON DEL VALLE' 'LICEO  JUVENIL  EL  RODEO'\n",
      " 'INSTITUCION EDUCATIVA BARTOLOMÉ LOBOGUERRERO'\n",
      " 'CENT DOC SANTIAGO DE CALI' 'INSTITUCION EDUCATIVA PRIMITIVO CRESPO'\n",
      " 'INSTITUCION EDUCATIVA JOAQUIN DE CAYZEDO Y CUERO'\n",
      " 'INST COMERCIAL SAN FRANCISCO DE ASÍS' 'LICEO QUIMBAYA'\n",
      " 'INSTITUCION EDUCATIVA CENTRAL DE BACHILLERATO INTEGRADO'\n",
      " 'INSTITUCION EDUCATIVA JOSE CELESTINO MUTIS' 'LICEO DEL PACIFICO'\n",
      " 'INSTITUCION EDUCATIVA ALFREDO POSADA CORREA'\n",
      " 'COLEGIO NAVAL JOSE PRUDENCIO PADILLA'\n",
      " 'INSTITUCION EDUCATIVA SAGRADA FAMILIA' 'IE JOSE MARIA VILLEGAS'\n",
      " 'COL. RAFAEL POMBO' 'COLEGIO COMFANDI TULUA' 'COL SANTA RITA DE CASIA'\n",
      " 'INSTITUCION EDUCATIVA LA BUITRERA' 'INSTITUCION EDUCATIVA JORGE ROBLEDO'\n",
      " 'COLEGIO SALESIANO SAN JUAN BOSCO' 'INDALECIO PENILLA'\n",
      " 'INSTITUCION EDUCATIVA JOSE MANUEL SAAVEDRA GALINDO'\n",
      " 'INSTITUCION EDUCATIVA BOYACA' 'INSTITUCION EDUCATIVA LAS AMERICAS'\n",
      " 'INSTITUCION EDUCATIVA CIUDAD FLORIDA'\n",
      " 'INSTITUCION EDUCATIVA SAGRADO CORAZON DE JESUS'\n",
      " 'INSTITUCION EDUCATIVA MARIA ANTONIA RUIZ'\n",
      " 'INSTITUCION EDUCATIVA LA ESPERANZA' 'INST CIAL GRAN COLOMBIA'\n",
      " 'COL SENDEROS' 'INSTITUCION EDUCATIVA ALFONSO ZAWADZKY'\n",
      " 'COL VILLA DE AMPUDIA' 'NESTOR URBANO TENORIO'\n",
      " 'COLEGIO TÉCNICO COMERCIAL DIOCESANO SANTA MARIA'\n",
      " 'CENTRO ETNOEDUCATIVO ANTONIO MACEO' 'IE AGRICOLA DE GUADALAJARA DE BUGA'\n",
      " 'ESTHER ETELVINA ARAMBURO' 'COL TEC CIAL SAN MARCOS DE LEON'\n",
      " 'INSTITUCION EDUCATIVA EUSTAQUIO PALACIOS'\n",
      " 'INSTITUCION EDUCATIVA MANUEL DOLORES MONDRAGON'\n",
      " 'INSTITUCION EDUCATIVA MONSEÑOR RAMON ARCILA'\n",
      " 'COL COMUNITARIO  TEC IND. UNIDAD BOLIVARIANA'\n",
      " 'COLEGIO MAYOR DEL NORTE 2 - PIZAMOS'\n",
      " 'INSTITUCION EDUCATIVA GIMNASIO DEL CALIMA'\n",
      " 'INSTITUTO DE EDUACCION COMFENALCO VALLLE'\n",
      " 'INSTITUCION EDUCATIVA HAROLD EDER'\n",
      " 'INST COMERCIAL INDUSTRIAL Y TECNOLÓGICO ICIT'\n",
      " 'INSTITUCION EDUCATIVA FRANCISCO ANTONIO ZEA'\n",
      " 'COL COOP TECNICO INDUSTRIAL JOSE ANTONIO GALAN' 'IE JOSE ANTONIO GALAN'\n",
      " 'INSTITUCION EDUCATIVA PEDRO VICENTE ABADIA'\n",
      " 'COL FE Y ALEGRIA FRAY LUIS AMIGÓ' 'PATRICIO SYMES'\n",
      " 'INSTITUCION EDUCATIVA SEMILLA DE LA ESPERANZA'\n",
      " 'INSTITUCION EDUCATIVA GILBERTO ALZATE AVENDAÑO'\n",
      " 'LICEO FARALLONES DEL NORTE' 'LICEO SUPERIOR DEL VALLE'\n",
      " 'INSTITUCION EDUCATIVA GOLONDRINAS'\n",
      " 'INSTITUCION EDUCATIVA PRESBITERO HORACIO GOMEZ GALLO'\n",
      " 'INSTITUCION EDUCATIVA TECNICA COMERCIAL LAS AMERICAS'\n",
      " 'INSTITUCION EDUCATIVA TCNICO COMERCIAL JOSE MARIA VIVAS BALCAZAR'\n",
      " 'INSTITUCION EDUCATIVA SANTA ANA DE LOS CABALLEROS'\n",
      " 'INSTTICIÓN EDUCATIVA CARLOS HOLGUIN LLOREDA' 'ANTONIO NARIÑO'\n",
      " 'FRANCISCO JOSE DE CALDAS' 'INSTITUCION EDUCATIVA  JORGE ELIECER GAITAN'\n",
      " 'INSTITUCION EDUCATIVA ALVARO ECHEVERRY PEREA'\n",
      " 'TÉCNICO INDUSTRIAL GERARDO VALENCIA CANO' 'MIGUEL DE CERVANTES SAAVEDRA'\n",
      " 'SOR MARIA JULIANA' 'INSTITUCION EDUCATIVA LOS ANDES'\n",
      " 'INSTITUTO EDUCATIVO ALFA' 'LICEO SANTA INES VALLEGRANDE'\n",
      " 'INSTITUCION EDUCATIVA ABSALON TORRES CAMACHO'\n",
      " 'INSTITUCION EDUCATIVA AGRICOLA CAMPOALEGRE'\n",
      " 'INSTITUCION EDUCATIVA JULIO CESAR ZULUAGA' 'LICEO JUAN CAMILO'\n",
      " 'INSTITUCION EDUCATIVA JOSE MARIA FALLA' 'INSTITUCION EDUCATIVA DE ROZO'\n",
      " 'COLEGIO POLITECNICO SIGLO XXI' 'IE NUESTRA SENORA DE FATIMA'\n",
      " 'INSTITUCION EDUCATIVA NUESTRA SEÑORA DE LA CONSOLACION'\n",
      " 'INSTITUCIÓN  EDUCATIVA LA MEDALLA MILAGROSA'\n",
      " 'INSTITUCION EDUCATIVA LA ANUNCIACION' 'LICEO SANTA CLARA'\n",
      " 'INSTITUCION EDUCATIVA ALFREDO GARRIDO TOVAR' 'COL LOS ANDES N 2'\n",
      " 'INSTITUCION EDUCATIVA MARIA ANTONIA PENAGOS'\n",
      " 'INSTITUTO CENTRAL DEL COMERCIO Y BACHILLERATO'\n",
      " 'INSTITUCION EDUCATIVA JOVITA SANTA COLOMA' 'ZARAGOZA'\n",
      " 'INSTITUCION EDUCATIVA JOSE MARIA CORDOBA'\n",
      " 'INSTITUCION EDUCATIVA NARANJAL' 'INSTITUCION EDUCATIVA DOMINGO IRURITA'\n",
      " 'INSTITUCION EDUCATIVA  LA TULIA'\n",
      " 'TECNOLÓGICO EN INFORMATICA Y COMERCIO DE BUENAVENTURA INCOMEB'\n",
      " 'COLEGIO COMFANDI REGIONAL PALMIRA' 'COLEGIO EL TESORO DEL SABER'\n",
      " 'INSTITUCION EDUCATIVA AGUACLARA'\n",
      " 'INSTITUCION EDUCATIVA JESUS VILLAFANE FRANCO'\n",
      " 'LICEO CAÑAVERAL DE OCCIDENTE' 'INSTITUCION EDUCATIVA SAN ANTONIO'\n",
      " 'INST TEC AGROP Y FORESTAL SMURFIT CARTON DE COLOMBIA'\n",
      " 'INSTITUTO TÉCNICO FUTURO PROFESIONAL'\n",
      " 'INST.SIST.DE EDUCACION EMPRESARIAL COLEGIO ISEE'\n",
      " 'INST NTRA SRA DEL CARMEN' 'COL CIUDAD DE YUMBO'\n",
      " 'CENTRO DE ESTUDIOS E INVESTIGACIÓN VIDA CEVIDA'\n",
      " 'INSTITUCION EDUCATIVA TABLONES' 'JUAN JOSE RONDON'\n",
      " 'COL.CIAL. STA JUANA DE ARCO'\n",
      " 'INSTITUCION EDUCATIVA HERNANDO LLORENTE ARROYO' 'COLEGIO CIUDAD CÓRDOBA'\n",
      " 'INSTITUCION EDUCATIVA EVA RIASCOS PLATA' 'COL MIXTO FRAY PEÑA'\n",
      " 'COLEGIO NUESTRA SEÑORA DE LA SABIDURIA' 'COLEGIO PANAMERICANO' 'INCOVAL'\n",
      " 'INSTITUCION EDUCATIVA VILLACOLOMBIA'\n",
      " 'CENTRO DE EDUCACION EN TECNOLOGIA CENTEC'\n",
      " 'INSTITUCION EDUCATIVA EL AGUILA' 'COL SAN SEBASTIAN'\n",
      " 'PASCUAL DE ANDAGOYA' 'GIMNASIO BUENAVENTURA' 'LICEO CERROS DEL VALLE'\n",
      " 'INSTITUCION EDUCATIVA CEILAN' 'INSTITUCION EDUCATIVA LA LIBERTAD'\n",
      " 'INSTITUCION EDUCATIVA DE DESARROLLO RURAL LA SELVA'\n",
      " 'COLEGIO MIXTO LUZ Y VIDA' 'COLEGIO TÉCNICO INPROVACC'\n",
      " 'INSTITUCION EDUCATIVA EFRAIN VARELA VACA' 'LICEO RENACER'\n",
      " 'CENTRO DOCENTE LICEO MARISOL' 'COLEGIO DEL NIÑO JESUS'\n",
      " 'INSTITUCION EDUCATIVA SANTA MARTA'\n",
      " 'CENTRO DE CAPACITACION SUPERIOR CECSCOT' 'COL GIMNASIO MODERNO'\n",
      " 'INSTITUCION EDUCATIVA TECNICO INDUSTRIAL  MULTIPROPOSITO'\n",
      " 'COL SAN CARLOS' 'COLEGIO SAN CAYETANO'\n",
      " 'INSTITUCION EDUCATIVA SANTA ELENA'\n",
      " 'INSTITUCION EDUCATIVA SIXTO MARIA ROJAS' 'PRINCIPE DE PAZ'\n",
      " 'COLEGIO COOPERATIVO LINO GIL JARAMILLO' 'IE ANTONIA SANTOS'\n",
      " 'COLEGIO NAZARETH' 'INST TEC DIVERSIFICADO GRAJALES'\n",
      " 'ACADEMIA DE CIENCIAS DE COLOMBIA AKADEMOS'\n",
      " 'CENT EDUC SEBASTIAN DE BELALCAZAR' 'GABRIELA MISTRAL'\n",
      " 'INSTITUCION EDUCATIVA MARIA ANALIA ORTIZ HORMAZA'\n",
      " 'COLEGIO CIUDAD DEL CAMPO' 'REPUBLICA DE VENEZUELA'\n",
      " 'SEMINARIO SAN BUENAVENTURA' 'INSTITUCIÓN EDUCATIVA VIRTUAL ANDINOS'\n",
      " 'INSTITUCION EDUCATIVA ARGEMIRO ESCOBAR CARDONA'\n",
      " 'INSTITUTO SER INTERNACIONAL DIAMANTE' 'SAN RAFAEL'\n",
      " 'MANUEL QUINTERO PENILLA' 'INSTITUCION EDUCATIVA PANCE'\n",
      " 'INSTITUCION EDUCATIVA TECNICO INDUSTRIAL VEINTE DE JULIO'\n",
      " 'CORP EDUC COL NIÑO JESUS DE PRAGA'\n",
      " 'INSTITUCION EDUCATIVA NEMESIO RODRIGUEZ ESCOBAR' 'INST CAMILO TERREROS'\n",
      " 'INSTITUCION EDUCATIVA FRANCISCO MIRANDA'\n",
      " 'INSTITUCION EDUCATIVA ANTONIO LIZARAZO' 'COLEGIO TECNICO SAN SEBASTIAN'\n",
      " 'COLEGIO PRINCIPE DE PAZ' 'LICEO CALIMIO DESEPAZ' 'JUANCHACO'\n",
      " 'ANTONIO JOSE DE SUCRE' 'INSTITUCION EDUCATIVA RAFAEL NUÑEZ'\n",
      " 'CENTRO DOCENTE LIGIA RESTREPO' 'INSTITUCION EDUCATIVA PRIMAVERA'\n",
      " 'COLEGIO JOHANNES GUTENBERG'\n",
      " 'INSTITUTO DE EDUCACION INTEGRAL JOSE CELESTINO MUTIS'\n",
      " 'INSTITUCION EDUCATIVA EL QUEREMAL' 'COLEGIO CENTRAL' 'COL JUAN PABLO II'\n",
      " 'COL HERNANDO CAICEDO' 'CIUDAD DE CARTAGO'\n",
      " 'INST NAL DE TECNOLOGIA EMPRESARIAL-INTE' 'COL VILLA DE LAS PALMAS'\n",
      " 'INSTITUTO TÉCNICO INDSUTRIAL MANUEL ELKIN PATARROYO'\n",
      " 'INST TEC CIAL INSTECOM' 'LICEO EL LIBERTADOR'\n",
      " 'COL FE Y ESPERANZA MISION PANAMERICANA'\n",
      " 'INSTITUCION EDUCATIVA SANTA TERESITA' 'COL LA MERCED'\n",
      " 'CENT EDUC COMUNIT OMAR TORRIJOS' 'SIMON RODRIGUEZ'\n",
      " 'INST TECNOLG EMPRESARIAL COLOMBIANO' 'EL MILAGROSO' 'COL CENTRAL MADRID'\n",
      " 'INSTITUCION EDUCATIVA CARLOS HOLGUIN SARDI' 'INSTITUTO  COLOMBIA'\n",
      " 'IE ROSA ZARATE DE PEÑA' 'CORPORACION EDUCATIVA ADVENTISTA- CÁMBULOS'\n",
      " 'INSTITUTO ANGELES DE DIOS' 'COLEGIO PARROQUIAL SAN FRANCISCO JAVIER'\n",
      " 'INSTITUCION EDUCATIVA MONSEÑOR JOSE MANUEL SALCEDO'\n",
      " 'COL POLITECNICO LOS LIBERTADORES' 'INSTITUCION EDUCATIVA QUEBRADAGRANDE'\n",
      " 'INSTITUCION EDUCATIVA  EL PLACER' 'INSTITUCION EDUCATIVA LA LEONERA'\n",
      " 'COLEGIO LAS PALMAS' 'INSTIUCION EDUCATIVA LUIS GABRIEL UMAÑA MORALES'\n",
      " 'I.E. FRANCISCO JAVIER CISNEROS' 'JOSE ACEVEDO Y GOMEZ'\n",
      " 'INSTITUCION EDUCATIVA ANTONIOJOSE DE SUCRE'\n",
      " 'INSTITUCION EDUCATIVA FELIDIA'\n",
      " 'INSTITUCION EDUCATIVA COMUNITARIA LUIS CARLOS VALENCIA'\n",
      " 'IE LA MAGDALENA' 'LIC COMERCIAL LA MILAGROSA'\n",
      " 'INSTITUTO TECNICO CONSTRUCTORES DEL FUTURO'\n",
      " 'COL DE BACHILLERATO TÉCNICO COMERCIAL HARGADÓN EL PLACER'\n",
      " 'INSTITUTO MARIA MONTESSORI' 'COLEGIO HERNANDO CAICEDO'\n",
      " 'COLEGIO COMUNITARIO FUCOMABE'\n",
      " 'INSTITUCION EDUCATIVA REPUBLICA DE ARGENTINA'\n",
      " 'INSTITUCION EDUCATIVA SAN BUENAVENTURA' 'ACADEMIA ACADEMIA SAM'\n",
      " 'INSTITUCION EDUCATIVA GABRIELA MISTRAL'\n",
      " 'COLEGIO CAMPESTRE  SAN JUAN DE LA LOMA' 'INSTITUTO BASIS'\n",
      " 'COL RICHARD BACH' 'INST NUESTRA SEÑORA DE LA ASUNCION'\n",
      " 'SANTA CATALINA LABOURE' 'INST MODERNO'\n",
      " 'COLEGIO  NUESTRA  SEÑORA  DE  LA PROVIDENCIA' 'PATRICIO OLAVE ANGULO'\n",
      " 'CENTRO DOCENTE SANTA ANITA' 'INSTITUCION EDUCATIVA PAULO VI'\n",
      " 'INSTITUCION ETNOEDUCATIVA NUEVO LATIR'\n",
      " 'COLEGIO SANTA ISABEL DE HUNGRIA SEDE ALFONSO LOPEZ'\n",
      " 'INSTITUCION EDUCATIVA INEM JORGE ISAACS' 'COLEGIO RICARDO NIETO'\n",
      " 'COL CAMILO TORRES' 'INSTITUCION EDUCATIVA  SAN JUAN DE BARRAGAN'\n",
      " 'COLEGIO COMUNITARIO TECNICO INDUSTRIAL UNIDAD BOLIVARIANA'\n",
      " 'COLEGIO YIZFRED' 'INSTITUCION ETNOEDUCATIVA TECNICA CIUDADELA DESEPAZ'\n",
      " 'INSTITUCION EDUCATIVA EL HORMIGUERO' 'INSTITUCION EDUCATIVA ACADEMICO'\n",
      " 'COL FRANCISCO REDONDO PONCE DE LEON' 'ALFONSO LOPEZ PUMAREJO'\n",
      " 'COLEGIO TECNICO COMERCIAL SAN MARCOS DE LEON'\n",
      " 'LICEOS EJERCITO PICHINCHA' 'INSTITUCION EDUCATIVA JOSE MARIA VILLEGAS'\n",
      " 'INSTITUTO MARIA AUXILIADORA' 'INSTITUCION EDUCATIVA GENERAL SANTANDER'\n",
      " 'IE JULIO FERNANDEZ MEDINA'\n",
      " 'INSTITUCION EDUCATIVA MANUEL ANTONIO SANCLEMENTE'\n",
      " 'IE LEONOR LOURIDO DE VELASCO' 'LICEO SANTA CATALINA LABOURE'\n",
      " 'LIC. SUPERIOR DEL VALLE NO.3'\n",
      " 'INSTITUCION EDUCATIVA TULIO ENRIQUE TASCON' 'INST LA CAMPIÑA'\n",
      " 'INST.COMERCIAL DEL PACIFICO'\n",
      " 'INSTITUTO TECNICO DE COMERCIO Y SISTEMAS INTECOSIS LTDA'\n",
      " 'INSTITUTO MODERNO' 'LICEO COLOMBO IRLANDES'\n",
      " '\"CENTRO EDUCATIVO TÉCNICO INTEGRAL \"\"CETI\"\"\"'\n",
      " 'INSTITUCION EDUCATIVA CARLOS HOLGUIN LLOREDA'\n",
      " 'INSTITUCION EDUCATIVA EL PALMAR' 'INSTITUTO POLITÉCNICO COMUNA 21.'\n",
      " 'CENTRO EDUCATIVO NUEVO MILENIO'\n",
      " 'INSTITUCION EDUCATIVA GUILLERMO VALENCIA' 'INSTITUTO RAFAEL POMBO'\n",
      " 'INSTITUCION EDUCATIVA POLICARPA SALAVARRIETA'\n",
      " 'COL PARROQUIAL NUESTRA SEÑORA DE FÁTIMA' 'COL SANTA CRUZ'\n",
      " 'COL CENTROCOM' 'INSTITUCION EDUCATIVA LA PAZ' 'INST TEC REY DE REYES'\n",
      " 'IE GENERAL SANTANDER' 'INSTITUCION EDUCATIVA MARIANO GONZALEZ'\n",
      " 'INSTITUCION EDUCATIVA LA MARINA' 'INSTITUTO TECNICO LATINOAMERICANO I'\n",
      " 'ASOC EDUC COL ARANGO Y CUERO' 'INST MIGUEL FEBRES CORDERO'\n",
      " 'INSTITUCION EDUCATIVA AGRICOLA DE GUADALAJARA DE BUGA' 'CORPORACION CER'\n",
      " 'COLEGIO COOPERATIVO NUESTRA SEÑORA DE LOS REMEDIOS'\n",
      " 'COL GIMNASIO LOS ALPES' 'COLEGIO AMOR Y CIENCIA'\n",
      " 'INSTITUCION EDUCATIVA TEODORO MUNERA HINCAPIE'\n",
      " 'CENTRO DOCENTE LA ESPERANZA' 'COL CIUDAD DE CANDELARIA'\n",
      " 'INSTITUTO DE COMERCIO PRACTICO INSCOP'\n",
      " 'INSTITUTO MARISCAL JORGE ROBLEDO CARTAGO'\n",
      " 'INSTITUTO TECNICO DE EXCELENCIA EMPRESARIAL'\n",
      " 'COL ALONSO ARAGON QUINTERO' 'COLEGIO BARTOLOME DE LAS CASAS'\n",
      " 'INSTITUCION EDUCATIVA ACERG  ASOCIACION DE CENTROS EDUCATIVOS DEL CAÑON DEL RIO GARRAPATAS'\n",
      " 'INSTITUTO COOPERATIVO SOFONIAS YACUP' 'INST ROJAS ORJUELA'\n",
      " 'INSTITUCION EDUCATIVA AGROPECUARIO MONTERREY'\n",
      " 'COLEGIO INTERNADO SAN CARLOS'\n",
      " 'INSTITUCION EDUCATIVA NUESTRA SEÑORA DE FATIMA'\n",
      " 'INSTITUCION EDUCATIVA LA MAGDALENA' 'COLEGIO NIÑO JESUS DE PRAGA'\n",
      " 'INSTITUCION EDUCATIVA LUIS FERNANDO CAICEDO'\n",
      " 'INSTITUTO ACADEMICO DEL PACIFICO' 'IE AGROPECUARIO MONTERREY'\n",
      " 'INSTITUTO TECNICO COMERCIAL INSTECOM' 'LICEO MANUELA BELTRAN 2'\n",
      " 'CENTRO DE FORMACION INTEGRAL MARGARITA HURTADO' 'COLEGIO ANDINO'\n",
      " 'CENT EDUC FORMAL DISCENTERS' 'LIC MODERNO'\n",
      " 'COLEGIO GIMNASIO TECNOLOGICO DEL PACIFICO' 'COLEGIO LITORAL PACIFICO'\n",
      " 'COLEGIO EL AMPARO' 'COLEGIO LOS ANGELES DEL NORTE' 'COMFANDI MIRAFLORES'\n",
      " 'COLEGIO COMFANDI EL PRADO' 'LIC CAMPESTRE LA MISION'\n",
      " 'COLEGIO COOPERATIVO COOMEVA' 'INST CIAL ARQUIDIOCESANO'\n",
      " 'COLEGIO BENNETT' 'COLEGIO GIMNASIO LA COLINA' 'LICEO BENALCAZAR'\n",
      " 'COLEGIO AMERICANO' 'COL TECNICO MARIA ELVINIA' 'LICEO QUIAL'\n",
      " 'LICEO SAN JUAN XXIII' 'COL BERCHMANS' 'COLEGIO LOS ANGELES SAN FERNANDO'\n",
      " 'COLEGIO HISPANOAMERICANO' 'LICEO DE LOS ANDES'\n",
      " 'COLEGIO CENTRO DE ARTE JUVENILIA'\n",
      " 'GIMNASIO LOS FARALLONES VALLE DEL LILY' 'INSTITUTO TECNICO LA RIVIERA'\n",
      " 'COLEGIO LACORDAIRE' 'LA PRESENTACIÓN' 'SANTA MARIANA DE JESÚS'\n",
      " 'COLEGIO SAN PEDRO CLAVER CALI SAS' 'COLEGIO LEON DE GREIFF'\n",
      " 'COLEGIO COLOMBO BRITÁNICO' 'COLEGIO CLARETIANO SANTA DOROTEA'\n",
      " 'COLEGIO PARROQUIAL SAN PEDRO CLAVER' 'COL PARROQ SAN JUAN BAUTISTA'\n",
      " 'COLEGIO LUIS HORACIO GOMEZ' 'COL BILINGÜE LANCASTER' 'COLEGIO SAN JOSÉ'\n",
      " 'COLEGIO SANTA MARIA STELLA MARIS' 'COL NTRA SRA DE LA ANUNCIACION'\n",
      " 'CENTRO EDUCATIVO INSCAT' 'CORPORACION COLEGIO AMERICAS UNIDAS'\n",
      " 'ASPAEN LICEO TACURÍ' 'VERNOT SCHOOL'\n",
      " 'CENTRO EDUCATIVO ETIEVAN -  COLEGIO ENCUENTROS'\n",
      " 'COLEGIO REYES CATOLICOS' 'COLEGIO LOS ANDES' 'INST NUEVA JERUSALEN'\n",
      " 'COLEGIO FRANCISCANO DE FRAY DAMIAN GONZALEZ' 'COLEGIO LAURETTA BENDER'\n",
      " 'LIC LOS ANGELES' 'COLEGIO BILINGÜE SAN JOSE CAMPESTRE'\n",
      " 'SEMINARIO DIOCESANO DE CRISTO SACERDOTE' 'ASPAEN COLEGIO JUANAMBÚ'\n",
      " 'COLEGIO FREINET' 'COLEGIO LEONÍSTICO LA MERCED' 'COLEGIO EL BOSQUE'\n",
      " 'LICEO FRANCES PAUL VALERY' 'INSTITUTO SER INTERNACIONAL'\n",
      " 'COLEGIO MAYOR ALFEREZ REAL' 'COLEGIO FRANCISCANO  PÍO XII'\n",
      " 'COLEGIO DE LA SAGRADA FAMILIA' 'COLEGIO NUESTRA SEÑORA DEL ROSARIO'\n",
      " 'COLEGIO MIXTO SAN VICENTE' 'COLEGIO BAUTISTA' 'LICEO BELLA SUIZA'\n",
      " 'COL DE LA SANTÍSIMA TRINIDAD' 'COLEGIO BILINGUE DIANA OESE'\n",
      " 'COLEGIO LA PRESENTACION EL PARAISO' 'COL COMFANDI - YUMBO'\n",
      " 'COLEGIO MILITAR JOSE ACEVEDO Y GOMEZ' 'COLEGIO SAN ANTONIO MARIA CLARET'\n",
      " 'COLEGIO SAN FRANCISCO DE ASIS' 'COL SANTA TERESITA'\n",
      " 'COLEGIO MIGUEL CAMACHO PEREA' 'INST EDUC SAN FRANCISCO JAVIER'\n",
      " 'COL AGUSTINIANO CAMPESTRE' 'COL SANTA MARIANA DE JESÚS'\n",
      " 'COL COMFANDI TERRANOVA' 'COLEGIO MARIA AUXILIADORA' 'COL CATOLICO'\n",
      " 'COLEGIO BILINGUE MONTESSORI' 'COLEGIO LUIS CARLOS GALAN SARMIENTO'\n",
      " 'COL JEFFERSON' 'COLEGIO COMFANDI BUGA'\n",
      " 'COLEGIO SAN JOSE - SEDE CHAMPAGNAT'\n",
      " 'INSTITUTO TÉCNICO INDUSTRIAL SAN JUAN BOSCO'\n",
      " 'COLEGIO PARROQUIAL NUESTRA SEÑORA DE LOS ANDES'\n",
      " 'CORPORACIÓN CULTURAL COLEGIO ALEMÁN'\n",
      " 'ACADEMIA MILIT CORONEL MIGUEL CABAL BARONA'\n",
      " 'HERMANAS BETHLEMITAS PROV. DEL SAGRADO CORAZON DE JESUS'\n",
      " 'COLEGIO MILITAR ALMIRANTE COLON' 'INST EDUC NUESTRA SEÑORA DEL ROSARIO'\n",
      " 'INST TEC CIAL E INDUSTRIAL PROVIDENCIA' 'COL GIMNASIO NORTE DEL VALLE'\n",
      " 'COL. TEC. COMERCIAL SANTA MARIA GORETTY' 'COL MAYOR SANTIAGO DE CALI'\n",
      " 'LICEO TECNICO COMERCIAL AVANCEMOS' 'COL MILIT GENERAL AGUSTIN CODAZZI'\n",
      " 'COL BOLIVAR' 'COL MAYOR CIUDAD DE BUGA'\n",
      " 'COL. NUESTRA SEÑORA DE LA GRACIA'\n",
      " 'COLEGIO NUESTRA SEÑORA DE LA CONSOLACION'\n",
      " 'COLEGIO PARROQIAL SANTIAGO APOSTOL' 'COL SAN JOSE DEL AVILA'\n",
      " 'COLEGIO INTERNACIONAL LOS CAÑAVERALES' 'COLEGIO INGLES DE LOS ANDES'\n",
      " 'COLEGIO PARROQUIAL NUESTRA SEÑORA DE GUADALUPE'\n",
      " 'CENTRO DOCENTE TOMAS CIPRIANO  MOSQUERA' 'LICEO CARLOS CASTRO SAAVEDRA'\n",
      " 'LICEO NUESTRA SEÑORA DE LOURDES' 'COL ANA JULIA HOLGUIN  DE  HURTADO'\n",
      " 'COLEGIO DEL SAGRADO CORAZÓN DE JESÚS-VALLE DEL LILI'\n",
      " 'COLEGIO MAYOR SAN ANTONIO DE PADUA' 'LICEO SUPERIOR JUAN PABLO II'\n",
      " 'COLEGIO  DE NUESTRA SEÑORA DE CHIQUINQUIRA' 'COLEGIO LICEO DEL VALLE'\n",
      " 'JARDÍN TIA NORA Y LICEO LOS ALPES' 'COLEGIO SAN ALBERTO MAGNO'\n",
      " 'COLEGIO PHILADELPHIA INTERNACIONAL'\n",
      " 'INSTITUCIÓN EDUCATIVA DIOCESANA PAULO VI' 'LICEO JUVENIL'\n",
      " 'INSTITUTO TECNICO SALOMIA' 'LICEO MONTESSORI BILINGUE NACIONAL'\n",
      " 'COL LOS ALPES DE LLANO GRANDE' 'INST. TECN. HERMANO MIGUEL'\n",
      " 'INSTITUCION EDUCATIVA DEL VALLE'\n",
      " 'COL DIOCESANO GIMNASIO CENTRAL DEL VALLE'\n",
      " 'LICEO MAYOR TECNICO DEL VALLE' 'COL EL PINAR' 'COL SANTA INES CAMPESTRE'\n",
      " 'CENTRO DE ESTUDIOS ACADEMICOS C.E.A' 'COLEGIO SAN IGNACIO DE LOYOLA'\n",
      " 'COL NUESTRA SEÑORA DE LA ESPERANZA' 'COLEGIO DE SAN LUIS GONZAGA'\n",
      " 'COLEGIO CIUDADELA EDUCATIVA LA PRESENTACIÓN'\n",
      " 'CORPORACION NACIONAL DE ESTUDIOS' 'COL COLOMBIA'\n",
      " 'FUNDACION EDUCATIVA LIDERES' 'COLEGIO COMERCIAL DE PALMIRA O.E.T.H'\n",
      " 'COLEGIO MILITAR ALMIRANTE COLON DE CALI'\n",
      " 'COLEGIO PERSONALIZADO PENSARTE' 'COLEGIO VALORES ILAMA' 'COLEGIO IDEAS'\n",
      " 'COLEGIO SAN FERNANDO REY' 'ACADE MILIT JOAQUÍN DE CAICEDO Y CUERO'\n",
      " 'INST SER INTERNACIONAL COMUNA 17'\n",
      " 'LICEO COMERCIAL Y TECNOLOGICO DEL VALLE' 'INSTITUTO BILINGUE AGORA'\n",
      " 'COL COOMEVA' 'LICEO  JUAN  XXIII' 'COL CIUDADELA EDUC LA PRESENTACIÓN'\n",
      " 'SEM DE CRISTO SACERDOTE' 'LICEO CARTAGO' 'COLEGIO SAN FRANCISCO JAVIER'\n",
      " 'INST. TEC. CIAL GENERAL SANTANDER' 'COLEGIO BILINGUE WASHINGTON'\n",
      " 'COLEGIO CREAD' 'I.E. COLOMBO ESPAÑOL ALFEREZ REAL'\n",
      " 'COLEGIO NUEVO MILENIO' 'INSTITUTO BOLIVARIANO ESDISEÑOS DEL VALLE'\n",
      " 'COL COOPERATIVO OBRERO DEL VALLE' 'COLEGIO COMERCIAL MARIA INMACULADA'\n",
      " 'INSTITUTO TÉCNICO DE CAPACITACIÓN ITECI']\n"
     ]
    }
   ],
   "source": [
    "val_cole_nombre_establecimiento = datos_sn['cole_nombre_establecimiento'].unique()\n",
    "print(\"Valores únicos en 'cole_nombre_establecimiento':\", val_cole_nombre_establecimiento)"
   ]
  },
  {
   "cell_type": "markdown",
   "metadata": {},
   "source": [
    "Se observa que los nombres de los colegios no están estandarizados, por ejemplo hay:'SIMON BOLIVAR' 'INSTITUCION EDUCATIVA SIMON BOLIVAR, por lo que es dificil saber si se refiere al mismo colegio, por lo que podria ser mejor no usar esta columna o usar la columna de cole_cod_dane_establecimiento"
   ]
  },
  {
   "cell_type": "code",
   "execution_count": 43,
   "metadata": {},
   "outputs": [
    {
     "name": "stdout",
     "output_type": "stream",
     "text": [
      "Valores únicos en 'cole_cod_dane_establecimiento': [376000000000.0 176000000000.0 177000000000.0 277000000000.0\n",
      " 276000000000.0 377000000000.0 476000000000.0 477000000000.0 '3.76E+11'\n",
      " '4.76E+11' '3.77E+11' '4.77E+11' '1.77E+11' '1.76E+11' '2.76E+11'\n",
      " '2.77E+11']\n"
     ]
    }
   ],
   "source": [
    "val_cole_cod_dane_establecimiento= datos_sn['cole_cod_dane_establecimiento'].unique()\n",
    "print(\"Valores únicos en 'cole_cod_dane_establecimiento':\", val_cole_cod_dane_establecimiento)"
   ]
  },
  {
   "cell_type": "markdown",
   "metadata": {},
   "source": [
    "cole_sede_principal"
   ]
  },
  {
   "cell_type": "code",
   "execution_count": 44,
   "metadata": {},
   "outputs": [
    {
     "name": "stdout",
     "output_type": "stream",
     "text": [
      "Valores únicos en 'cole_sede_principal': ['S' 'N']\n"
     ]
    }
   ],
   "source": [
    "val_cole_sede_principal = datos_sn['cole_sede_principal'].unique()\n",
    "print(\"Valores únicos en 'cole_sede_principal':\", val_cole_sede_principal)"
   ]
  },
  {
   "cell_type": "markdown",
   "metadata": {},
   "source": [
    "estu_cod_depto_presentacion, estu_cod_mcpio_presentacion, estu_cod_reside_depto, estu_cod_reside_mcpio son identificadores"
   ]
  },
  {
   "cell_type": "markdown",
   "metadata": {},
   "source": [
    "estu_depto_presentacion"
   ]
  },
  {
   "cell_type": "code",
   "execution_count": 45,
   "metadata": {},
   "outputs": [
    {
     "name": "stdout",
     "output_type": "stream",
     "text": [
      "Valores únicos en 'estu_depto_presentacion': ['VALLE' 'RISARALDA' 'HUILA' 'CUNDINAMARCA' 'CASANARE' 'ANTIOQUIA'\n",
      " 'TOLIMA' 'CAUCA' 'BOGOTÁ' 'CHOCO' 'SUCRE' 'NARIÑO' 'CAQUETA' 'CALDAS'\n",
      " 'QUINDIO' 'LA GUAJIRA' 'MAGDALENA' 'BOYACA' 'PUTUMAYO' 'ATLANTICO'\n",
      " 'CESAR' 'BOLIVAR' 'META' 'CORDOBA' 'SAN ANDRES']\n"
     ]
    }
   ],
   "source": [
    "val_estu_depto_presentacion = datos_sn['estu_depto_presentacion'].unique()\n",
    "print(\"Valores únicos en 'estu_depto_presentacion':\", val_estu_depto_presentacion)"
   ]
  },
  {
   "cell_type": "markdown",
   "metadata": {},
   "source": [
    "estu_dpto_residencia"
   ]
  },
  {
   "cell_type": "code",
   "execution_count": 46,
   "metadata": {},
   "outputs": [
    {
     "name": "stdout",
     "output_type": "stream",
     "text": [
      "Valores únicos en 'estu_depto_reside': ['VALLE' 'CAUCA' 'RISARALDA' 'CUNDINAMARCA' 'TOLIMA' 'PUTUMAYO' 'BOGOTÁ'\n",
      " 'CHOCO' 'ANTIOQUIA' 'NARIÑO' 'CALDAS' 'MAGDALENA' 'BOYACA' 'CASANARE'\n",
      " 'HUILA' 'ATLANTICO' 'CESAR' 'BOLIVAR' 'META' 'SAN ANDRES']\n"
     ]
    }
   ],
   "source": [
    "val_estu_depto_reside = datos_sn['estu_depto_reside'].unique()\n",
    "print(\"Valores únicos en 'estu_depto_reside':\", val_estu_depto_reside)"
   ]
  },
  {
   "cell_type": "markdown",
   "metadata": {},
   "source": [
    "estu_estadoinvestigacion"
   ]
  },
  {
   "cell_type": "code",
   "execution_count": 47,
   "metadata": {},
   "outputs": [
    {
     "name": "stdout",
     "output_type": "stream",
     "text": [
      "Valores únicos en 'estu_estadoinvestigacion': ['PUBLICAR' 'NO SE COMPROBO IDENTIDAD DEL EXAMINADO'\n",
      " 'VALIDEZ OFICINA JURÍDICA']\n"
     ]
    }
   ],
   "source": [
    "val_estu_estadoinvestigacion = datos_sn['estu_estadoinvestigacion'].unique()\n",
    "print(\"Valores únicos en 'estu_estadoinvestigacion':\", val_estu_estadoinvestigacion)"
   ]
  },
  {
   "cell_type": "markdown",
   "metadata": {},
   "source": [
    "Se eliminan filas de datos donde no se comprueba la identidad del examinado"
   ]
  },
  {
   "cell_type": "code",
   "execution_count": 48,
   "metadata": {},
   "outputs": [
    {
     "name": "stdout",
     "output_type": "stream",
     "text": [
      "Número de filas antes de eliminar registros no válidos: 143141\n",
      "Número de filas después de eliminar registros no válidos: 143138\n"
     ]
    }
   ],
   "source": [
    "# Filtrar las filas donde 'estu_estadoinvestigacion' no sea 'NO SE COMPROBO IDENTIDAD DEL EXAMINADO'\n",
    "datos_f1 = datos_sn.loc[datos_sn['estu_estadoinvestigacion'] != 'NO SE COMPROBO IDENTIDAD DEL EXAMINADO']\n",
    "\n",
    "# Verificar el cambio\n",
    "print(\"Número de filas antes de eliminar registros no válidos:\", len(datos_sn))\n",
    "print(\"Número de filas después de eliminar registros no válidos:\", len(datos_f1))"
   ]
  },
  {
   "cell_type": "markdown",
   "metadata": {},
   "source": [
    "Todos los valores de estu_edtudiante son iguales"
   ]
  },
  {
   "cell_type": "code",
   "execution_count": 49,
   "metadata": {},
   "outputs": [
    {
     "name": "stdout",
     "output_type": "stream",
     "text": [
      "Valores únicos en 'estu_estudiante': ['ESTUDIANTE']\n"
     ]
    }
   ],
   "source": [
    "val_estu_estudiante = datos_f1['estu_estudiante'].unique()\n",
    "print(\"Valores únicos en 'estu_estudiante':\", val_estu_estudiante)"
   ]
  },
  {
   "cell_type": "markdown",
   "metadata": {},
   "source": [
    "En la fecha de nacimiento del estudiante se observa que hay fechas mal escritas y otras que no son coherentes, por lo que no se va a usar esta columna"
   ]
  },
  {
   "cell_type": "code",
   "execution_count": 50,
   "metadata": {},
   "outputs": [
    {
     "name": "stdout",
     "output_type": "stream",
     "text": [
      "Valores únicos en 'estu_fechanacimiento': ['12/07/2003' '19/01/2001' '10/07/2002' ... '31/10/0002' '02/06/0002'\n",
      " '27/11/0003']\n"
     ]
    }
   ],
   "source": [
    "\n",
    "val_estu_fechanacimiento = datos_f1['estu_fechanacimiento'].unique()\n",
    "print(\"Valores únicos en 'estu_fechanacimiento':\", val_estu_fechanacimiento)"
   ]
  },
  {
   "cell_type": "markdown",
   "metadata": {},
   "source": [
    "estu_genero"
   ]
  },
  {
   "cell_type": "code",
   "execution_count": 51,
   "metadata": {},
   "outputs": [
    {
     "name": "stdout",
     "output_type": "stream",
     "text": [
      "Valores únicos en 'estu_genero': ['M' 'F']\n"
     ]
    }
   ],
   "source": [
    "val_estu_genero = datos_f1['estu_genero'].unique()\n",
    "print(\"Valores únicos en 'estu_genero':\", val_estu_genero)"
   ]
  },
  {
   "cell_type": "markdown",
   "metadata": {},
   "source": [
    "estu_mcpio_presentacion"
   ]
  },
  {
   "cell_type": "code",
   "execution_count": 25,
   "metadata": {},
   "outputs": [
    {
     "name": "stdout",
     "output_type": "stream",
     "text": [
      "Valores únicos en 'estu_mcpio_presentacion': ['CALI' 'CARTAGO' 'PALMIRA' 'CAICEDONIA' 'JAMUNDÍ' 'DOSQUEBRADAS'\n",
      " 'BUENAVENTURA' 'PRADERA' 'TULUÁ' 'ROLDANILLO' 'CANDELARIA' 'TRUJILLO'\n",
      " 'SEVILLA' 'GUADALAJARA DE BUGA' 'GINEBRA' 'TORO' 'EL CERRITO' 'YUMBO'\n",
      " 'EL CAIRO' 'LA UNIÓN' 'BOLÍVAR' 'ANDALUCÍA' 'DAGUA' 'ZARZAL' 'ALCALÁ'\n",
      " 'PEREIRA' 'CALIMA' 'FLORIDA' 'GUACARÍ' 'BUGALAGRANDE' 'EL ÁGUILA'\n",
      " 'ANSERMANUEVO' 'RESTREPO' 'TIMANÁ' 'FACATATIVÁ' 'AGUAZUL' 'SAN ROQUE'\n",
      " 'LÉRIDA' 'PUERTO TEJADA' 'BOGOTÁ D.C.' 'IBAGUÉ' 'MARINILLA' 'QUIBDÓ'\n",
      " 'SANTA FÉ DE ANTIOQUIA' 'SINCELEJO' 'PASTO' 'FLORENCIA' 'POPAYÁN'\n",
      " 'RIOSUCIO' 'LA TEBAIDA' 'MERCADERES' 'BAJO BAUDÓ' 'MEDELLÍN' 'RIOHACHA'\n",
      " 'MIRANDA' 'BELÉN DE UMBRÍA' 'SANTANDER DE QUILICHAO' 'ARMENIA'\n",
      " 'MANIZALES' 'SANTA MARTA' 'GUAMO' 'TUNJA' 'LA VEGA' 'MOCOA' 'SIBUNDOY'\n",
      " 'FUSAGASUGÁ' 'BARRANQUILLA' 'YOPAL' 'GIRARDOT' 'EL DONCELLO'\n",
      " 'SAN ANDRÉS DE TUMACO' 'ORITO' 'AGUACHICA' 'ISTMINA'\n",
      " 'CARTAGENA DE INDIAS' 'VILLAVICENCIO' 'LA PLATA' 'NEIVA' 'MONTERÍA'\n",
      " 'APARTADÓ' 'SAN ANDRÉS']\n"
     ]
    }
   ],
   "source": [
    "val_estu_mcpio_presentacion = datos_f1['estu_mcpio_presentacion'].unique()\n",
    "print(\"Valores únicos en 'estu_mcpio_presentacion':\", val_estu_mcpio_presentacion)"
   ]
  },
  {
   "cell_type": "markdown",
   "metadata": {},
   "source": [
    "estu_mcpio_reside"
   ]
  },
  {
   "cell_type": "code",
   "execution_count": 26,
   "metadata": {},
   "outputs": [
    {
     "name": "stdout",
     "output_type": "stream",
     "text": [
      "Valores únicos en 'estu_mcpio_reside': ['CALI' 'CARTAGO' 'PALMIRA' 'CAICEDONIA' 'JAMUNDÍ' 'BUENAVENTURA'\n",
      " 'PRADERA' 'TULUÁ' 'ROLDANILLO' 'CANDELARIA' 'TRUJILLO' 'SEVILLA'\n",
      " 'GUADALAJARA DE BUGA' 'GINEBRA' 'TORO' 'EL CERRITO' 'LA CUMBRE'\n",
      " 'EL CAIRO' 'VERSALLES' 'ANDALUCÍA' 'DAGUA' 'ZARZAL' 'YUMBO' 'LA VICTORIA'\n",
      " 'ULLOA' 'OBANDO' 'CALIMA' 'SAN PEDRO' 'ALCALÁ' 'FLORIDA' 'GUACARÍ'\n",
      " 'BUGALAGRANDE' 'ARGELIA' 'EL ÁGUILA' 'RIOFRÍO' 'LA UNIÓN' 'VIJES'\n",
      " 'YOTOCO' 'BOLÍVAR' 'ANSERMANUEVO' 'RESTREPO' 'EL DOVIO' 'MIRANDA'\n",
      " 'PEREIRA' 'BOJACÁ' 'LÉRIDA' 'DOSQUEBRADAS' 'BUENOS AIRES' 'PUERTO ASÍS'\n",
      " 'PUERTO TEJADA' 'BOGOTÁ D.C.' 'QUIBDÓ' 'SAN ROQUE' 'MERCADERES'\n",
      " 'VILLA RICA' 'LÓPEZ DE MICAY' 'NARIÑO' 'POPAYÁN' 'TIMBIQUÍ'\n",
      " 'SANTANDER DE QUILICHAO' 'BELÉN DE UMBRÍA' 'MANIZALES' 'SANTA MARTA'\n",
      " 'TUNJA' 'LA VEGA' 'AGUAZUL' 'SIBUNDOY' 'POTOSÍ' 'FUSAGASUGÁ' 'NEIVA'\n",
      " 'BARRANQUILLA' 'BELLO' 'GIRARDOT' 'ORITO' 'MEDELLÍN' 'AGUACHICA' 'IBAGUÉ'\n",
      " 'ISTMINA' 'PASTO' 'EL CARMEN DE BOLÍVAR' 'MOSQUERA' 'VILLAVICENCIO'\n",
      " 'PITALITO' 'FLORENCIA' 'CORINTO' 'CUMBITARA' 'SABANETA' 'ENVIGADO'\n",
      " 'APARTADÓ' 'PROVIDENCIA']\n"
     ]
    }
   ],
   "source": [
    "val_estu_mcpio_reside = datos_f1['estu_mcpio_reside'].unique()\n",
    "print(\"Valores únicos en 'estu_mcpio_reside':\", val_estu_mcpio_reside)"
   ]
  },
  {
   "cell_type": "markdown",
   "metadata": {},
   "source": [
    "estu_nacionalidad"
   ]
  },
  {
   "cell_type": "code",
   "execution_count": 27,
   "metadata": {},
   "outputs": [
    {
     "name": "stdout",
     "output_type": "stream",
     "text": [
      "Valores únicos en 'estu_nacionalidad': ['COLOMBIA' 'ESPAÑA' 'VENEZUELA' 'FRANCIA' 'ESTADOS UNIDOS' 'ECUADOR'\n",
      " 'CUBA' 'ITALIA' 'VANUATU' 'COSTA RICA' 'REPÚBLICA DOMINICANA' 'CURAZAO'\n",
      " 'ARUBA' 'PERÚ' 'ARGENTINA' 'REINO UNIDO' 'HONDURAS' 'PORTUGAL' 'SUECIA'\n",
      " 'AUSTRALIA' 'NICARAGUA' 'MÉXICO' 'CHILE' 'PAÍSES BAJOS - HOLANDA'\n",
      " 'TAIWAN' 'CANADÁ' 'GUATEMALA']\n"
     ]
    }
   ],
   "source": [
    "val_estu_nacionalidad = datos_f1['estu_nacionalidad'].unique()\n",
    "print(\"Valores únicos en 'estu_nacionalidad':\", val_estu_nacionalidad)"
   ]
  },
  {
   "cell_type": "markdown",
   "metadata": {},
   "source": [
    "estu_pais_reside"
   ]
  },
  {
   "cell_type": "code",
   "execution_count": 28,
   "metadata": {},
   "outputs": [
    {
     "name": "stdout",
     "output_type": "stream",
     "text": [
      "Valores únicos en 'estu_pais_reside': ['COLOMBIA' 'ESPAÑA' 'VENEZUELA' 'FRANCIA' 'ESTADOS UNIDOS' 'ECUADOR'\n",
      " 'CUBA' 'ITALIA' 'VANUATU' 'COSTA RICA' 'REPÚBLICA DOMINICANA' 'CURAZAO'\n",
      " 'ARUBA' 'PERÚ' 'ARGENTINA' 'REINO UNIDO' 'HONDURAS' 'PORTUGAL' 'SUECIA'\n",
      " 'AUSTRALIA' 'NICARAGUA' 'MÉXICO' 'CHILE' 'PAÍSES BAJOS - HOLANDA'\n",
      " 'TAIWAN' 'CANADÁ' 'GUATEMALA']\n"
     ]
    }
   ],
   "source": [
    "val_estu_pais_reside= datos_f1['estu_pais_reside'].unique()\n",
    "print(\"Valores únicos en 'estu_pais_reside':\", val_estu_pais_reside)"
   ]
  },
  {
   "cell_type": "markdown",
   "metadata": {},
   "source": [
    "Se eliminan todas las filas donde el pais de residencia del estudiante no sea Colombia"
   ]
  },
  {
   "cell_type": "code",
   "execution_count": 29,
   "metadata": {},
   "outputs": [
    {
     "name": "stdout",
     "output_type": "stream",
     "text": [
      "Número de filas antes de eliminar registros no 'COLOMBIA': 143138\n",
      "Número de filas después de eliminar registros no 'COLOMBIA': 142062\n"
     ]
    }
   ],
   "source": [
    "datos_f2 = datos_f1.loc[datos_f1['estu_pais_reside'] == 'COLOMBIA']\n",
    "\n",
    "# Verificar el cambio\n",
    "print(\"Número de filas antes de eliminar registros no 'COLOMBIA':\", len(datos_f1))\n",
    "print(\"Número de filas después de eliminar registros no 'COLOMBIA':\", len(datos_f2))"
   ]
  },
  {
   "cell_type": "markdown",
   "metadata": {},
   "source": [
    "estu_privado_libertad todos los valores son iguales"
   ]
  },
  {
   "cell_type": "code",
   "execution_count": 30,
   "metadata": {},
   "outputs": [
    {
     "name": "stdout",
     "output_type": "stream",
     "text": [
      "Valores únicos en 'estu_privado_libertad': ['N']\n"
     ]
    }
   ],
   "source": [
    "val_estu_privado_libertad= datos_f2['estu_privado_libertad'].unique()\n",
    "print(\"Valores únicos en 'estu_privado_libertad':\", val_estu_privado_libertad)"
   ]
  },
  {
   "cell_type": "markdown",
   "metadata": {},
   "source": [
    "fami_cuartoshogar"
   ]
  },
  {
   "cell_type": "code",
   "execution_count": 31,
   "metadata": {},
   "outputs": [
    {
     "name": "stdout",
     "output_type": "stream",
     "text": [
      "Valores únicos en 'fami_cuartoshogar': ['Tres' 'Cuatro' 'Dos' 'Cinco' 'Uno' 'Seis o mas']\n"
     ]
    }
   ],
   "source": [
    "val_fami_cuartoshogar= datos_f2['fami_cuartoshogar'].unique()\n",
    "print(\"Valores únicos en 'fami_cuartoshogar':\", val_fami_cuartoshogar)"
   ]
  },
  {
   "cell_type": "markdown",
   "metadata": {},
   "source": [
    "fami_educacionmadre"
   ]
  },
  {
   "cell_type": "code",
   "execution_count": 32,
   "metadata": {},
   "outputs": [
    {
     "name": "stdout",
     "output_type": "stream",
     "text": [
      "Valores únicos en 'fami_educacionmadre': ['Secundaria (Bachillerato) completa' 'Primaria incompleta'\n",
      " 'Educación profesional completa' 'Secundaria (Bachillerato) incompleta'\n",
      " 'Postgrado' 'Primaria completa' 'Técnica o tecnológica completa'\n",
      " 'Ninguno' 'Técnica o tecnológica incompleta'\n",
      " 'Educación profesional incompleta' 'No sabe' 'No Aplica']\n"
     ]
    }
   ],
   "source": [
    "val_fami_educacionmadre= datos_f2['fami_educacionmadre'].unique()\n",
    "print(\"Valores únicos en 'fami_educacionmadre':\", val_fami_educacionmadre)"
   ]
  },
  {
   "cell_type": "markdown",
   "metadata": {},
   "source": [
    "fami_educacionpadre"
   ]
  },
  {
   "cell_type": "code",
   "execution_count": 33,
   "metadata": {},
   "outputs": [
    {
     "name": "stdout",
     "output_type": "stream",
     "text": [
      "Valores únicos en 'fami_educacionpadre': ['Primaria incompleta' 'Educación profesional completa'\n",
      " 'Secundaria (Bachillerato) incompleta'\n",
      " 'Secundaria (Bachillerato) completa' 'Primaria completa' 'No sabe'\n",
      " 'Educación profesional incompleta' 'Técnica o tecnológica completa'\n",
      " 'Técnica o tecnológica incompleta' 'Ninguno' 'Postgrado' 'No Aplica']\n"
     ]
    }
   ],
   "source": [
    "val_fami_educacionpadre= datos_f2['fami_educacionpadre'].unique()\n",
    "print(\"Valores únicos en 'fami_educacionpadre':\", val_fami_educacionpadre)"
   ]
  },
  {
   "cell_type": "markdown",
   "metadata": {},
   "source": [
    "fami_estratovivienda"
   ]
  },
  {
   "cell_type": "code",
   "execution_count": 34,
   "metadata": {},
   "outputs": [
    {
     "name": "stdout",
     "output_type": "stream",
     "text": [
      "Valores únicos en 'fami_estratovivienda': ['Estrato 2' 'Estrato 1' 'Estrato 3' 'Estrato 4' 'Estrato 5' 'Sin Estrato'\n",
      " 'Estrato 6']\n"
     ]
    }
   ],
   "source": [
    "val_fami_estratovivienda= datos_f2['fami_estratovivienda'].unique()\n",
    "print(\"Valores únicos en 'fami_estratovivienda':\", val_fami_estratovivienda)"
   ]
  },
  {
   "cell_type": "markdown",
   "metadata": {},
   "source": [
    "fami_personashogar"
   ]
  },
  {
   "cell_type": "code",
   "execution_count": 35,
   "metadata": {},
   "outputs": [
    {
     "name": "stdout",
     "output_type": "stream",
     "text": [
      "Valores únicos en 'fami_personashogar': ['3 a 4' '7 a 8' '5 a 6' '1 a 2' '9 o más']\n"
     ]
    }
   ],
   "source": [
    "val_fami_personashogar= datos_f2['fami_personashogar'].unique()\n",
    "print(\"Valores únicos en 'fami_personashogar':\", val_fami_personashogar)"
   ]
  },
  {
   "cell_type": "markdown",
   "metadata": {},
   "source": [
    "fami_tieneautomovil"
   ]
  },
  {
   "cell_type": "code",
   "execution_count": 36,
   "metadata": {},
   "outputs": [
    {
     "name": "stdout",
     "output_type": "stream",
     "text": [
      "Valores únicos en 'fami_tieneautomovil': ['No' 'Si']\n"
     ]
    }
   ],
   "source": [
    "val_fami_tieneautomovil= datos_f2['fami_tieneautomovil'].unique()\n",
    "print(\"Valores únicos en 'fami_tieneautomovil':\", val_fami_tieneautomovil)"
   ]
  },
  {
   "cell_type": "markdown",
   "metadata": {},
   "source": [
    "fami_tienecomputador"
   ]
  },
  {
   "cell_type": "code",
   "execution_count": 37,
   "metadata": {},
   "outputs": [
    {
     "name": "stdout",
     "output_type": "stream",
     "text": [
      "Valores únicos en 'fami_tienecomputador': ['No' 'Si']\n"
     ]
    }
   ],
   "source": [
    "val_fami_tienecomputador= datos_f2['fami_tienecomputador'].unique()\n",
    "print(\"Valores únicos en 'fami_tienecomputador':\", val_fami_tienecomputador)"
   ]
  },
  {
   "cell_type": "markdown",
   "metadata": {},
   "source": [
    "fami_tieneinternet"
   ]
  },
  {
   "cell_type": "code",
   "execution_count": 38,
   "metadata": {},
   "outputs": [
    {
     "name": "stdout",
     "output_type": "stream",
     "text": [
      "Valores únicos en 'fami_tieneinternet': ['No' 'Si']\n"
     ]
    }
   ],
   "source": [
    "val_fami_tieneinternet= datos_f2['fami_tieneinternet'].unique()\n",
    "print(\"Valores únicos en 'fami_tieneinternet':\", val_fami_tieneinternet)"
   ]
  },
  {
   "cell_type": "markdown",
   "metadata": {},
   "source": [
    "fami_tienelavadora"
   ]
  },
  {
   "cell_type": "code",
   "execution_count": 39,
   "metadata": {},
   "outputs": [
    {
     "name": "stdout",
     "output_type": "stream",
     "text": [
      "Valores únicos en 'fami_tienelavadora': ['Si' 'No']\n"
     ]
    }
   ],
   "source": [
    "val_fami_tienelavadora= datos_f2['fami_tienelavadora'].unique()\n",
    "print(\"Valores únicos en 'fami_tienelavadora':\", val_fami_tienelavadora)"
   ]
  },
  {
   "cell_type": "markdown",
   "metadata": {},
   "source": [
    "desemp_ingles"
   ]
  },
  {
   "cell_type": "code",
   "execution_count": 40,
   "metadata": {},
   "outputs": [
    {
     "name": "stdout",
     "output_type": "stream",
     "text": [
      "Valores únicos en 'desemp_ingles': ['A-' 'B1' 'A2' 'A1' 'B+']\n"
     ]
    }
   ],
   "source": [
    "val_desemp_ingles= datos_f2['desemp_ingles'].unique()\n",
    "print(\"Valores únicos en 'desemp_ingles':\", val_desemp_ingles)"
   ]
  },
  {
   "cell_type": "code",
   "execution_count": 41,
   "metadata": {},
   "outputs": [
    {
     "data": {
      "text/html": [
       "<div>\n",
       "<style scoped>\n",
       "    .dataframe tbody tr th:only-of-type {\n",
       "        vertical-align: middle;\n",
       "    }\n",
       "\n",
       "    .dataframe tbody tr th {\n",
       "        vertical-align: top;\n",
       "    }\n",
       "\n",
       "    .dataframe thead th {\n",
       "        text-align: right;\n",
       "    }\n",
       "</style>\n",
       "<table border=\"1\" class=\"dataframe\">\n",
       "  <thead>\n",
       "    <tr style=\"text-align: right;\">\n",
       "      <th></th>\n",
       "      <th>periodo</th>\n",
       "      <th>cole_cod_depto_ubicacion</th>\n",
       "      <th>cole_cod_mcpio_ubicacion</th>\n",
       "      <th>cole_codigo_icfes</th>\n",
       "      <th>estu_cod_depto_presentacion</th>\n",
       "      <th>estu_cod_mcpio_presentacion</th>\n",
       "      <th>estu_cod_reside_depto</th>\n",
       "      <th>estu_cod_reside_mcpio</th>\n",
       "      <th>punt_ingles</th>\n",
       "      <th>punt_matematicas</th>\n",
       "      <th>punt_sociales_ciudadanas</th>\n",
       "      <th>punt_c_naturales</th>\n",
       "      <th>punt_lectura_critica</th>\n",
       "      <th>punt_global</th>\n",
       "    </tr>\n",
       "  </thead>\n",
       "  <tbody>\n",
       "    <tr>\n",
       "      <th>count</th>\n",
       "      <td>142062.000000</td>\n",
       "      <td>142062.0</td>\n",
       "      <td>142062.000000</td>\n",
       "      <td>142062.000000</td>\n",
       "      <td>142062.000000</td>\n",
       "      <td>142062.000000</td>\n",
       "      <td>142062.000000</td>\n",
       "      <td>142062.000000</td>\n",
       "      <td>142062.000000</td>\n",
       "      <td>142062.000000</td>\n",
       "      <td>142062.000000</td>\n",
       "      <td>142062.000000</td>\n",
       "      <td>142062.000000</td>\n",
       "      <td>142062.000000</td>\n",
       "    </tr>\n",
       "    <tr>\n",
       "      <th>mean</th>\n",
       "      <td>20208.355056</td>\n",
       "      <td>76.0</td>\n",
       "      <td>76212.965895</td>\n",
       "      <td>205760.841161</td>\n",
       "      <td>75.898115</td>\n",
       "      <td>76103.881242</td>\n",
       "      <td>75.915882</td>\n",
       "      <td>76127.240663</td>\n",
       "      <td>51.570723</td>\n",
       "      <td>51.648766</td>\n",
       "      <td>48.635166</td>\n",
       "      <td>50.069751</td>\n",
       "      <td>54.118300</td>\n",
       "      <td>255.762160</td>\n",
       "    </tr>\n",
       "    <tr>\n",
       "      <th>std</th>\n",
       "      <td>14.511843</td>\n",
       "      <td>0.0</td>\n",
       "      <td>291.923331</td>\n",
       "      <td>250651.562297</td>\n",
       "      <td>2.441769</td>\n",
       "      <td>2454.246726</td>\n",
       "      <td>2.184516</td>\n",
       "      <td>2199.853667</td>\n",
       "      <td>13.378605</td>\n",
       "      <td>11.923275</td>\n",
       "      <td>12.254100</td>\n",
       "      <td>10.730166</td>\n",
       "      <td>10.481609</td>\n",
       "      <td>51.862814</td>\n",
       "    </tr>\n",
       "    <tr>\n",
       "      <th>min</th>\n",
       "      <td>20191.000000</td>\n",
       "      <td>76.0</td>\n",
       "      <td>76001.000000</td>\n",
       "      <td>16659.000000</td>\n",
       "      <td>5.000000</td>\n",
       "      <td>5001.000000</td>\n",
       "      <td>5.000000</td>\n",
       "      <td>5001.000000</td>\n",
       "      <td>0.000000</td>\n",
       "      <td>0.000000</td>\n",
       "      <td>0.000000</td>\n",
       "      <td>20.000000</td>\n",
       "      <td>0.000000</td>\n",
       "      <td>108.000000</td>\n",
       "    </tr>\n",
       "    <tr>\n",
       "      <th>25%</th>\n",
       "      <td>20194.000000</td>\n",
       "      <td>76.0</td>\n",
       "      <td>76001.000000</td>\n",
       "      <td>26864.000000</td>\n",
       "      <td>76.000000</td>\n",
       "      <td>76001.000000</td>\n",
       "      <td>76.000000</td>\n",
       "      <td>76001.000000</td>\n",
       "      <td>41.000000</td>\n",
       "      <td>43.000000</td>\n",
       "      <td>39.000000</td>\n",
       "      <td>42.000000</td>\n",
       "      <td>47.000000</td>\n",
       "      <td>216.000000</td>\n",
       "    </tr>\n",
       "    <tr>\n",
       "      <th>50%</th>\n",
       "      <td>20201.000000</td>\n",
       "      <td>76.0</td>\n",
       "      <td>76041.000000</td>\n",
       "      <td>100552.000000</td>\n",
       "      <td>76.000000</td>\n",
       "      <td>76020.000000</td>\n",
       "      <td>76.000000</td>\n",
       "      <td>76054.000000</td>\n",
       "      <td>51.000000</td>\n",
       "      <td>52.000000</td>\n",
       "      <td>48.000000</td>\n",
       "      <td>50.000000</td>\n",
       "      <td>54.000000</td>\n",
       "      <td>253.000000</td>\n",
       "    </tr>\n",
       "    <tr>\n",
       "      <th>75%</th>\n",
       "      <td>20224.000000</td>\n",
       "      <td>76.0</td>\n",
       "      <td>76364.000000</td>\n",
       "      <td>265447.000000</td>\n",
       "      <td>76.000000</td>\n",
       "      <td>76364.000000</td>\n",
       "      <td>76.000000</td>\n",
       "      <td>76364.000000</td>\n",
       "      <td>60.000000</td>\n",
       "      <td>60.000000</td>\n",
       "      <td>58.000000</td>\n",
       "      <td>58.000000</td>\n",
       "      <td>62.000000</td>\n",
       "      <td>293.000000</td>\n",
       "    </tr>\n",
       "    <tr>\n",
       "      <th>max</th>\n",
       "      <td>20224.000000</td>\n",
       "      <td>76.0</td>\n",
       "      <td>76895.000000</td>\n",
       "      <td>806752.000000</td>\n",
       "      <td>88.000000</td>\n",
       "      <td>88001.000000</td>\n",
       "      <td>88.000000</td>\n",
       "      <td>88564.000000</td>\n",
       "      <td>100.000000</td>\n",
       "      <td>100.000000</td>\n",
       "      <td>100.000000</td>\n",
       "      <td>100.000000</td>\n",
       "      <td>100.000000</td>\n",
       "      <td>495.000000</td>\n",
       "    </tr>\n",
       "  </tbody>\n",
       "</table>\n",
       "</div>"
      ],
      "text/plain": [
       "             periodo  cole_cod_depto_ubicacion  cole_cod_mcpio_ubicacion  \\\n",
       "count  142062.000000                  142062.0             142062.000000   \n",
       "mean    20208.355056                      76.0              76212.965895   \n",
       "std        14.511843                       0.0                291.923331   \n",
       "min     20191.000000                      76.0              76001.000000   \n",
       "25%     20194.000000                      76.0              76001.000000   \n",
       "50%     20201.000000                      76.0              76041.000000   \n",
       "75%     20224.000000                      76.0              76364.000000   \n",
       "max     20224.000000                      76.0              76895.000000   \n",
       "\n",
       "       cole_codigo_icfes  estu_cod_depto_presentacion  \\\n",
       "count      142062.000000                142062.000000   \n",
       "mean       205760.841161                    75.898115   \n",
       "std        250651.562297                     2.441769   \n",
       "min         16659.000000                     5.000000   \n",
       "25%         26864.000000                    76.000000   \n",
       "50%        100552.000000                    76.000000   \n",
       "75%        265447.000000                    76.000000   \n",
       "max        806752.000000                    88.000000   \n",
       "\n",
       "       estu_cod_mcpio_presentacion  estu_cod_reside_depto  \\\n",
       "count                142062.000000          142062.000000   \n",
       "mean                  76103.881242              75.915882   \n",
       "std                    2454.246726               2.184516   \n",
       "min                    5001.000000               5.000000   \n",
       "25%                   76001.000000              76.000000   \n",
       "50%                   76020.000000              76.000000   \n",
       "75%                   76364.000000              76.000000   \n",
       "max                   88001.000000              88.000000   \n",
       "\n",
       "       estu_cod_reside_mcpio    punt_ingles  punt_matematicas  \\\n",
       "count          142062.000000  142062.000000     142062.000000   \n",
       "mean            76127.240663      51.570723         51.648766   \n",
       "std              2199.853667      13.378605         11.923275   \n",
       "min              5001.000000       0.000000          0.000000   \n",
       "25%             76001.000000      41.000000         43.000000   \n",
       "50%             76054.000000      51.000000         52.000000   \n",
       "75%             76364.000000      60.000000         60.000000   \n",
       "max             88564.000000     100.000000        100.000000   \n",
       "\n",
       "       punt_sociales_ciudadanas  punt_c_naturales  punt_lectura_critica  \\\n",
       "count             142062.000000     142062.000000         142062.000000   \n",
       "mean                  48.635166         50.069751             54.118300   \n",
       "std                   12.254100         10.730166             10.481609   \n",
       "min                    0.000000         20.000000              0.000000   \n",
       "25%                   39.000000         42.000000             47.000000   \n",
       "50%                   48.000000         50.000000             54.000000   \n",
       "75%                   58.000000         58.000000             62.000000   \n",
       "max                  100.000000        100.000000            100.000000   \n",
       "\n",
       "         punt_global  \n",
       "count  142062.000000  \n",
       "mean      255.762160  \n",
       "std        51.862814  \n",
       "min       108.000000  \n",
       "25%       216.000000  \n",
       "50%       253.000000  \n",
       "75%       293.000000  \n",
       "max       495.000000  "
      ]
     },
     "execution_count": 41,
     "metadata": {},
     "output_type": "execute_result"
    }
   ],
   "source": [
    "datos_f2.describe()"
   ]
  },
  {
   "cell_type": "code",
   "execution_count": 52,
   "metadata": {},
   "outputs": [],
   "source": [
    "#Guardar los nuevos datos en un archivo excel \n",
    "data= \"C:/Users/angie/OneDrive/Desktop/Octavo semestre/Analitica computacional/Proyecto3/datos final.csv\"\n",
    "datos_f2.to_csv(data, index=False)"
   ]
  },
  {
   "cell_type": "markdown",
   "metadata": {},
   "source": [
    "Eliminar columnas de indicadores"
   ]
  },
  {
   "cell_type": "code",
   "execution_count": null,
   "metadata": {},
   "outputs": [
    {
     "name": "stdout",
     "output_type": "stream",
     "text": [
      "Columnas después de la eliminación: Index(['periodo', 'cole_area_ubicacion', 'cole_bilingue', 'cole_calendario',\n",
      "       'cole_caracter', 'cole_genero', 'cole_jornada', 'cole_mcpio_ubicacion',\n",
      "       'cole_naturaleza', 'cole_nombre_establecimiento', 'cole_sede_principal',\n",
      "       'estu_depto_presentacion', 'estu_genero', 'estu_mcpio_presentacion',\n",
      "       'estu_mcpio_reside', 'estu_nacionalidad', 'fami_cuartoshogar',\n",
      "       'fami_educacionmadre', 'fami_educacionpadre', 'fami_estratovivienda',\n",
      "       'fami_personashogar', 'fami_tieneautomovil', 'fami_tienecomputador',\n",
      "       'fami_tieneinternet', 'fami_tienelavadora', 'desemp_ingles',\n",
      "       'punt_ingles', 'punt_matematicas', 'punt_sociales_ciudadanas',\n",
      "       'punt_c_naturales', 'punt_lectura_critica', 'punt_global'],\n",
      "      dtype='object')\n"
     ]
    }
   ],
   "source": [
    "# Lista de columnas a eliminar\n",
    "columnas_a_eliminar = [\n",
    "    'estu_tipodocumento', 'estu_consecutivo', 'cole_cod_dane_establecimiento',\n",
    "    'cole_cod_dane_sede', 'cole_cod_depto_ubicacion', 'cole_cod_mcpio_ubicacion',\n",
    "    'cole_codigo_icfes', 'cole_depto_ubicacion', 'cole_nombre_sede', \n",
    "    'estu_cod_depto_presentacion', 'estu_cod_mcpio_presentacion', \n",
    "    'estu_cod_reside_depto', 'estu_cod_reside_mcpio', 'estu_depto_reside',\n",
    "    'estu_estadoinvestigacion', 'estu_estudiante', 'estu_fechanacimiento',\n",
    "    'estu_pais_reside', 'estu_privado_libertad'\n",
    "]\n",
    "\n",
    "# Eliminar las columnas especificadas\n",
    "datos_f3 = datos_f2.drop(columns=columnas_a_eliminar)\n",
    "\n",
    "# Verificar el cambio\n",
    "print(\"Columnas después de la eliminación:\", datos_f3.columns)"
   ]
  },
  {
   "cell_type": "code",
   "execution_count": null,
   "metadata": {},
   "outputs": [],
   "source": [
    "#Guardar los nuevos datos en un archivo excel \n",
    "data= \"C:/Users/angie/OneDrive/Desktop/Octavo semestre/Analitica computacional/Proyecto3/datos final1.csv\"\n",
    "datos_f3.to_csv(data, index=False)"
   ]
  }
 ],
 "metadata": {
  "kernelspec": {
   "display_name": "Python 3",
   "language": "python",
   "name": "python3"
  },
  "language_info": {
   "codemirror_mode": {
    "name": "ipython",
    "version": 3
   },
   "file_extension": ".py",
   "mimetype": "text/x-python",
   "name": "python",
   "nbconvert_exporter": "python",
   "pygments_lexer": "ipython3",
   "version": "3.11.7"
  }
 },
 "nbformat": 4,
 "nbformat_minor": 2
}
